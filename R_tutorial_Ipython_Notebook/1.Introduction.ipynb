{
 "cells": [
  {
   "cell_type": "markdown",
   "metadata": {},
   "source": [
    "This is the lecture notes prepared for the learners who dont have any programming language. The note is interactive one. It is preferred if the user use jupyter notebook so that full advantage can be taken through notebook. However, pdf file is also fine who dont want to use jupyter notebook. They can implement the code given over here in any R complier.\n",
    "\n",
    "This note is organized as follows:\n",
    "1. Simple airthematic\n",
    "2. Different data types\n",
    "3. Different data holders\n",
    "4. Logical operator\n",
    "4. Vector Manipulation\n",
    "5. List manipulation\n",
    "6. Marix manipulation\n",
    "6. Use of factors\n",
    "7. Data frame\n",
    "7. Loading csv file and its processing\n",
    "10. Control statements\n",
    "11. Looping\n",
    "12. Functions\n",
    "12. Statistical analysis\n",
    "13. Graphical representation\n",
    "14. Project\n",
    "\n",
    "\n",
    "1. Simple airthematic\n",
    "    R can be used as simple calculator. Some operation done in R as a calculator.\n"
   ]
  },
  {
   "cell_type": "markdown",
   "metadata": {},
   "source": [
    "Adition of two number"
   ]
  },
  {
   "cell_type": "code",
   "execution_count": 1,
   "metadata": {
    "scrolled": true
   },
   "outputs": [
    {
     "data": {
      "text/html": [
       "5"
      ],
      "text/latex": [
       "5"
      ],
      "text/markdown": [
       "5"
      ],
      "text/plain": [
       "[1] 5"
      ]
     },
     "execution_count": 1,
     "metadata": {},
     "output_type": "execute_result"
    }
   ],
   "source": [
    "\n",
    "2+3"
   ]
  },
  {
   "cell_type": "markdown",
   "metadata": {},
   "source": [
    "Multiplication of two numbers"
   ]
  },
  {
   "cell_type": "code",
   "execution_count": 1,
   "metadata": {},
   "outputs": [
    {
     "data": {
      "text/html": [
       "14"
      ],
      "text/latex": [
       "14"
      ],
      "text/markdown": [
       "14"
      ],
      "text/plain": [
       "[1] 14"
      ]
     },
     "execution_count": 1,
     "metadata": {},
     "output_type": "execute_result"
    }
   ],
   "source": [
    "\n",
    "2*7"
   ]
  },
  {
   "cell_type": "markdown",
   "metadata": {},
   "source": [
    "Division of two numbers"
   ]
  },
  {
   "cell_type": "code",
   "execution_count": 3,
   "metadata": {},
   "outputs": [
    {
     "data": {
      "text/html": [
       "0.666666666666667"
      ],
      "text/latex": [
       "0.666666666666667"
      ],
      "text/markdown": [
       "0.666666666666667"
      ],
      "text/plain": [
       "[1] 0.6666667"
      ]
     },
     "execution_count": 3,
     "metadata": {},
     "output_type": "execute_result"
    }
   ],
   "source": [
    "\n",
    "2/3"
   ]
  },
  {
   "cell_type": "markdown",
   "metadata": {},
   "source": [
    "A complicated simplification"
   ]
  },
  {
   "cell_type": "code",
   "execution_count": 4,
   "metadata": {},
   "outputs": [
    {
     "data": {
      "text/html": [
       "1"
      ],
      "text/latex": [
       "1"
      ],
      "text/markdown": [
       "1"
      ],
      "text/plain": [
       "[1] 1"
      ]
     },
     "execution_count": 4,
     "metadata": {},
     "output_type": "execute_result"
    }
   ],
   "source": [
    "\n",
    "2+3-4"
   ]
  },
  {
   "cell_type": "code",
   "execution_count": 5,
   "metadata": {},
   "outputs": [
    {
     "data": {
      "text/html": [
       "9"
      ],
      "text/latex": [
       "9"
      ],
      "text/markdown": [
       "9"
      ],
      "text/plain": [
       "[1] 9"
      ]
     },
     "execution_count": 5,
     "metadata": {},
     "output_type": "execute_result"
    }
   ],
   "source": [
    "2*5-4+3"
   ]
  },
  {
   "cell_type": "markdown",
   "metadata": {},
   "source": [
    " Trignometric functions Note: The angles should be in radian"
   ]
  },
  {
   "cell_type": "code",
   "execution_count": 6,
   "metadata": {
    "scrolled": true
   },
   "outputs": [
    {
     "data": {
      "text/html": [
       "0.893996663600558"
      ],
      "text/latex": [
       "0.893996663600558"
      ],
      "text/markdown": [
       "0.893996663600558"
      ],
      "text/plain": [
       "[1] 0.8939967"
      ]
     },
     "execution_count": 6,
     "metadata": {},
     "output_type": "execute_result"
    }
   ],
   "source": [
    "\n",
    "sin(90)"
   ]
  },
  {
   "cell_type": "markdown",
   "metadata": {},
   "source": [
    "pi is 3.14"
   ]
  },
  {
   "cell_type": "code",
   "execution_count": 7,
   "metadata": {},
   "outputs": [
    {
     "data": {
      "text/html": [
       "1"
      ],
      "text/latex": [
       "1"
      ],
      "text/markdown": [
       "1"
      ],
      "text/plain": [
       "[1] 1"
      ]
     },
     "execution_count": 7,
     "metadata": {},
     "output_type": "execute_result"
    }
   ],
   "source": [
    "\n",
    "sin(pi/2)"
   ]
  },
  {
   "cell_type": "markdown",
   "metadata": {},
   "source": [
    "3 raised to the power of 4"
   ]
  },
  {
   "cell_type": "code",
   "execution_count": 8,
   "metadata": {
    "scrolled": true
   },
   "outputs": [
    {
     "data": {
      "text/html": [
       "81"
      ],
      "text/latex": [
       "81"
      ],
      "text/markdown": [
       "81"
      ],
      "text/plain": [
       "[1] 81"
      ]
     },
     "execution_count": 8,
     "metadata": {},
     "output_type": "execute_result"
    }
   ],
   "source": [
    "\n",
    "3^4"
   ]
  },
  {
   "cell_type": "markdown",
   "metadata": {},
   "source": [
    " To determine the reminder ie if 5 is divded by 3 reminder is 2. we have an operator %% to print reminder"
   ]
  },
  {
   "cell_type": "code",
   "execution_count": 9,
   "metadata": {},
   "outputs": [
    {
     "data": {
      "text/html": [
       "2"
      ],
      "text/latex": [
       "2"
      ],
      "text/markdown": [
       "2"
      ],
      "text/plain": [
       "[1] 2"
      ]
     },
     "execution_count": 9,
     "metadata": {},
     "output_type": "execute_result"
    }
   ],
   "source": [
    "\n",
    "5%%3"
   ]
  },
  {
   "cell_type": "markdown",
   "metadata": {},
   "source": [
    "There are many other operators and functions which can be used as calcultor for basic operation. You can play with many others. You can google for different other mathemaical functions in R. Try it :D\n"
   ]
  },
  {
   "cell_type": "markdown",
   "metadata": {},
   "source": [
    "2. Different Data types:\n",
    "    \n",
    "       Programming language is nothing but a child who understands only some words or types of words. So, its our job to teach that child to perform different task using the words the child understands.\n",
    "       In mathematics, we have integers, complex numbers, real numbers. Also in algebra we assign varibales with words or letters. Similarly, there is some events where we use True and False to answer such answer is called Boolean in computer science.\n",
    "       So, in R there are basically 5 different types of data.\n",
    "       1. Numeric (Similar to real numbers in mathemaitcs i.e with decimal places 2.3333 0.444 etc)\n",
    "       2. Integers (These are numbers without decimal places but can be positive or negative)\n",
    "       3. Complex (As studied in grade 11 and 12 these are numbers having real and imaginary part eg.2+3i 3+5i)\n",
    "       4. Boolean (True and False data)\n",
    "       5. Character (Alphabetic letters or words to represent data)\n",
    "       \n",
    "       Lets try lean how each types of data"
   ]
  },
  {
   "cell_type": "markdown",
   "metadata": {},
   "source": [
    "1.Integers\n",
    "\n",
    "To assian value of integer to some variable name x i.e in mathematics x=2. But in R it is written as x<-2. \n",
    "Good to read as 2 is passed to x as arrow shows 2 goes to x"
   ]
  },
  {
   "cell_type": "code",
   "execution_count": 10,
   "metadata": {},
   "outputs": [
    {
     "name": "stdout",
     "output_type": "stream",
     "text": [
      "[1] 2\n"
     ]
    }
   ],
   "source": [
    "\n",
    "x<-2\n",
    "print(x) \n",
    "# this statement prints value of x print() \n",
    "#is inbuilt function in R to print out the value of variables here of x"
   ]
  },
  {
   "cell_type": "markdown",
   "metadata": {},
   "source": [
    "2.Numeric\n"
   ]
  },
  {
   "cell_type": "code",
   "execution_count": 11,
   "metadata": {},
   "outputs": [
    {
     "name": "stdout",
     "output_type": "stream",
     "text": [
      "[1] 0.222\n"
     ]
    }
   ],
   "source": [
    "x<-.222\n",
    "print(x)"
   ]
  },
  {
   "cell_type": "markdown",
   "metadata": {},
   "source": [
    "3.Complex\n"
   ]
  },
  {
   "cell_type": "code",
   "execution_count": 12,
   "metadata": {},
   "outputs": [
    {
     "name": "stdout",
     "output_type": "stream",
     "text": [
      "[1] 2+3i\n"
     ]
    }
   ],
   "source": [
    "\n",
    "x<-2+3i\n",
    "print(x)"
   ]
  },
  {
   "cell_type": "markdown",
   "metadata": {},
   "source": [
    "let us check if i square is -1 or not"
   ]
  },
  {
   "cell_type": "code",
   "execution_count": 13,
   "metadata": {
    "scrolled": true
   },
   "outputs": [
    {
     "name": "stdout",
     "output_type": "stream",
     "text": [
      "[1] -1+0i\n"
     ]
    }
   ],
   "source": [
    "x<-0+1i     # the complex number x is i because real part \n",
    "            #is 0 and imaginary part is 1\n",
    "y<-x^2     # we are squaring the i i.e x is i\n",
    "print(y)   # printing the value of y i.e i square. It must be -1. "
   ]
  },
  {
   "cell_type": "markdown",
   "metadata": {},
   "source": [
    "4.Character\n",
    "\n",
    "Some times we need to insert alphabetic data in data base ie blood group or Male or Female etc\n",
    "such data types are handeled by characters"
   ]
  },
  {
   "cell_type": "code",
   "execution_count": 14,
   "metadata": {},
   "outputs": [
    {
     "name": "stdout",
     "output_type": "stream",
     "text": [
      "[1] \"kanchi\"\n"
     ]
    }
   ],
   "source": [
    "name<-\"kanchi\" # here we are entering characters to it must be \n",
    "                #within the quotation mark \"<data>\"\n",
    "\n",
    "print(name) # printing what is in name"
   ]
  },
  {
   "cell_type": "markdown",
   "metadata": {},
   "source": [
    "5.Boolean \n",
    "\n",
    "Boolean data is of TRUE of FALSE type. ALways use the capital letters to boolean data. Small letts wont work"
   ]
  },
  {
   "cell_type": "code",
   "execution_count": 15,
   "metadata": {},
   "outputs": [
    {
     "name": "stdout",
     "output_type": "stream",
     "text": [
      "[1] TRUE\n"
     ]
    }
   ],
   "source": [
    "\n",
    "boo<-TRUE  #the data variable name is your freedom it can be \n",
    "            #words,letters, mixture of words and letters as well.\n",
    "\n",
    "print(boo)"
   ]
  },
  {
   "cell_type": "markdown",
   "metadata": {},
   "source": [
    "Let us try using the small letter word True for the boolean and see what happens. We will definately get error \n",
    "the error says True not fould because it is not defined in the R"
   ]
  },
  {
   "cell_type": "code",
   "execution_count": 16,
   "metadata": {},
   "outputs": [
    {
     "ename": "ERROR",
     "evalue": "Error in eval(expr, envir, enclos): object 'True' not found\n",
     "output_type": "error",
     "traceback": [
      "Error in eval(expr, envir, enclos): object 'True' not found\n"
     ]
    }
   ],
   "source": [
    "boo<-True "
   ]
  },
  {
   "cell_type": "markdown",
   "metadata": {},
   "source": [
    "But boolean TRUE and FALSE can be also written as T and F"
   ]
  },
  {
   "cell_type": "code",
   "execution_count": 17,
   "metadata": {},
   "outputs": [
    {
     "name": "stdout",
     "output_type": "stream",
     "text": [
      "[1] FALSE\n"
     ]
    }
   ],
   "source": [
    "boo<-F\n",
    "print(boo)"
   ]
  },
  {
   "cell_type": "markdown",
   "metadata": {},
   "source": [
    "Note: there is huge difference between Boolean TRUE and character TRUE"
   ]
  },
  {
   "cell_type": "code",
   "execution_count": 18,
   "metadata": {
    "scrolled": true
   },
   "outputs": [
    {
     "name": "stdout",
     "output_type": "stream",
     "text": [
      "[1] TRUE\n",
      "[1] \"TRUE\"\n"
     ]
    }
   ],
   "source": [
    "boo<-TRUE\n",
    "char<-\"TRUE\"\n",
    "print(boo)\n",
    "print(char)"
   ]
  },
  {
   "cell_type": "markdown",
   "metadata": {},
   "source": [
    "Now we know differnt types of data that can be used in R. As we are trying to learn data analysis using R and we always have a huge bunch of data. So, its time now to put the several data types within a holder i.e data holder. Lets learn about data holders used in R.\n",
    "\n",
    "\n",
    "There is one function in R that converts one data type to other i.e integre to character or others. The function is\n",
    "\n",
    "1 as.integer()  converts into integer\n",
    "\n",
    "2 as.character() converst into character\n",
    "\n",
    "3 as.complex() converts into complex number\n",
    "\n",
    "4 as.boolean() converts into boolean"
   ]
  },
  {
   "cell_type": "code",
   "execution_count": 19,
   "metadata": {
    "scrolled": true
   },
   "outputs": [
    {
     "name": "stderr",
     "output_type": "stream",
     "text": [
      "Warning message:\n",
      "In eval(expr, envir, enclos): NAs introduced by coercion"
     ]
    },
    {
     "name": "stdout",
     "output_type": "stream",
     "text": [
      "[1] NA\n"
     ]
    }
   ],
   "source": [
    "x<-\"a\"  #a character defined\n",
    "y<-as.integer(x)  #converts a to integer which cannot be\n",
    "                  #converted so it is NA ie not a number.\n",
    "\n",
    "print(y)"
   ]
  },
  {
   "cell_type": "code",
   "execution_count": 20,
   "metadata": {},
   "outputs": [
    {
     "name": "stdout",
     "output_type": "stream",
     "text": [
      "[1] 1\n",
      "[1] \"1\"\n"
     ]
    }
   ],
   "source": [
    "num<-1   #a integer defined\n",
    "num2char<-as.character(num)   #converts integer to character\n",
    "print(num)       #prints number. See the output its \n",
    "                # just a number without a quotation mark\n",
    "print(num2char)  #prints the character. See the output it has quotation mark"
   ]
  },
  {
   "cell_type": "markdown",
   "metadata": {},
   "source": [
    "Lets try to convert boolean to integer and vice versa"
   ]
  },
  {
   "cell_type": "code",
   "execution_count": 21,
   "metadata": {},
   "outputs": [
    {
     "name": "stdout",
     "output_type": "stream",
     "text": [
      "[1] 1\n"
     ]
    }
   ],
   "source": [
    "boo<-TRUE\n",
    "boo2int<-as.integer(boo)\n",
    "print(boo2int)"
   ]
  },
  {
   "cell_type": "raw",
   "metadata": {},
   "source": [
    "Herer we can see the boolean TRUE is converted to integer 1 .i.e For TRUE it is 1 and for FALSE check it yourslelf. :P"
   ]
  }
 ],
 "metadata": {
  "anaconda-cloud": {},
  "kernelspec": {
   "display_name": "R",
   "language": "R",
   "name": "ir"
  },
  "language_info": {
   "codemirror_mode": "r",
   "file_extension": ".r",
   "mimetype": "text/x-r-source",
   "name": "R",
   "pygments_lexer": "r",
   "version": "3.2.2"
  }
 },
 "nbformat": 4,
 "nbformat_minor": 1
}
