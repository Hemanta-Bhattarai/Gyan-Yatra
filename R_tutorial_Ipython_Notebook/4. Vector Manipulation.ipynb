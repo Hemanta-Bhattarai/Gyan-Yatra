{
 "cells": [
  {
   "cell_type": "markdown",
   "metadata": {
    "nbpresent": {
     "id": "53775afa-6f11-4eaf-b9c5-f79a699baa93"
    }
   },
   "source": [
    "Vector Manipulation\n",
    "\n",
    "As we are now familiar with different data holders, data types and logical operation. Let us try using the vectors and how it can be manipulated.\n",
    "\n",
    "First of all lets us create a vector. It can be done with a c(---data---) command"
   ]
  },
  {
   "cell_type": "code",
   "execution_count": 2,
   "metadata": {
    "collapsed": false,
    "nbpresent": {
     "id": "696b0b75-425c-47e6-9db0-6a208a8ccac6"
    }
   },
   "outputs": [
    {
     "data": {
      "text/html": [
       "<ol class=list-inline>\n",
       "\t<li>1</li>\n",
       "\t<li>2</li>\n",
       "\t<li>3</li>\n",
       "\t<li>4</li>\n",
       "\t<li>5</li>\n",
       "\t<li>6</li>\n",
       "\t<li>7</li>\n",
       "\t<li>8</li>\n",
       "\t<li>9</li>\n",
       "\t<li>10</li>\n",
       "</ol>\n"
      ],
      "text/latex": [
       "\\begin{enumerate*}\n",
       "\\item 1\n",
       "\\item 2\n",
       "\\item 3\n",
       "\\item 4\n",
       "\\item 5\n",
       "\\item 6\n",
       "\\item 7\n",
       "\\item 8\n",
       "\\item 9\n",
       "\\item 10\n",
       "\\end{enumerate*}\n"
      ],
      "text/markdown": [
       "1. 1\n",
       "2. 2\n",
       "3. 3\n",
       "4. 4\n",
       "5. 5\n",
       "6. 6\n",
       "7. 7\n",
       "8. 8\n",
       "9. 9\n",
       "10. 10\n",
       "\n",
       "\n"
      ],
      "text/plain": [
       " [1]  1  2  3  4  5  6  7  8  9 10"
      ]
     },
     "execution_count": 2,
     "metadata": {},
     "output_type": "execute_result"
    }
   ],
   "source": [
    "#create a vector vec containing a numbers from 1 to 10\n",
    "vec<-c(1,2,3,4,5,6,7,8,9,10)\n",
    "vec"
   ]
  },
  {
   "cell_type": "code",
   "execution_count": 3,
   "metadata": {
    "collapsed": false,
    "nbpresent": {
     "id": "da22bde7-6872-4a8d-b8cf-f2d02517d51c"
    }
   },
   "outputs": [
    {
     "data": {
      "text/html": [
       "<ol class=list-inline>\n",
       "\t<li>1</li>\n",
       "\t<li>2</li>\n",
       "\t<li>3</li>\n",
       "\t<li>4</li>\n",
       "\t<li>5</li>\n",
       "\t<li>6</li>\n",
       "\t<li>7</li>\n",
       "\t<li>8</li>\n",
       "\t<li>9</li>\n",
       "\t<li>10</li>\n",
       "</ol>\n"
      ],
      "text/latex": [
       "\\begin{enumerate*}\n",
       "\\item 1\n",
       "\\item 2\n",
       "\\item 3\n",
       "\\item 4\n",
       "\\item 5\n",
       "\\item 6\n",
       "\\item 7\n",
       "\\item 8\n",
       "\\item 9\n",
       "\\item 10\n",
       "\\end{enumerate*}\n"
      ],
      "text/markdown": [
       "1. 1\n",
       "2. 2\n",
       "3. 3\n",
       "4. 4\n",
       "5. 5\n",
       "6. 6\n",
       "7. 7\n",
       "8. 8\n",
       "9. 9\n",
       "10. 10\n",
       "\n",
       "\n"
      ],
      "text/plain": [
       " [1]  1  2  3  4  5  6  7  8  9 10"
      ]
     },
     "execution_count": 3,
     "metadata": {},
     "output_type": "execute_result"
    }
   ],
   "source": [
    "# vector or seqence of numbers can be done using following command\n",
    "vec<-1:10 # start:end\n",
    "vec"
   ]
  },
  {
   "cell_type": "code",
   "execution_count": 4,
   "metadata": {
    "collapsed": false,
    "nbpresent": {
     "id": "64646a94-e98a-45b9-9ba9-9dabba2ca977"
    }
   },
   "outputs": [
    {
     "data": {
      "text/html": [
       "<ol class=list-inline>\n",
       "\t<li>1</li>\n",
       "\t<li>2</li>\n",
       "\t<li>3</li>\n",
       "\t<li>4</li>\n",
       "\t<li>5</li>\n",
       "\t<li>6</li>\n",
       "\t<li>7</li>\n",
       "\t<li>8</li>\n",
       "\t<li>9</li>\n",
       "\t<li>10</li>\n",
       "</ol>\n"
      ],
      "text/latex": [
       "\\begin{enumerate*}\n",
       "\\item 1\n",
       "\\item 2\n",
       "\\item 3\n",
       "\\item 4\n",
       "\\item 5\n",
       "\\item 6\n",
       "\\item 7\n",
       "\\item 8\n",
       "\\item 9\n",
       "\\item 10\n",
       "\\end{enumerate*}\n"
      ],
      "text/markdown": [
       "1. 1\n",
       "2. 2\n",
       "3. 3\n",
       "4. 4\n",
       "5. 5\n",
       "6. 6\n",
       "7. 7\n",
       "8. 8\n",
       "9. 9\n",
       "10. 10\n",
       "\n",
       "\n"
      ],
      "text/plain": [
       " [1]  1  2  3  4  5  6  7  8  9 10"
      ]
     },
     "execution_count": 4,
     "metadata": {},
     "output_type": "execute_result"
    }
   ],
   "source": [
    "#vector of sequence of number is also created by the command seq(start, end, difference)\n",
    "vec<-seq(1,10,1)\n",
    "vec\n"
   ]
  },
  {
   "cell_type": "code",
   "execution_count": 5,
   "metadata": {
    "collapsed": false,
    "nbpresent": {
     "id": "90384923-5c7c-4688-a1cf-eb53e122528a"
    }
   },
   "outputs": [
    {
     "data": {
      "text/html": [
       "<ol class=list-inline>\n",
       "\t<li>20</li>\n",
       "\t<li>25</li>\n",
       "\t<li>30</li>\n",
       "\t<li>35</li>\n",
       "\t<li>40</li>\n",
       "\t<li>45</li>\n",
       "\t<li>50</li>\n",
       "\t<li>55</li>\n",
       "\t<li>60</li>\n",
       "\t<li>65</li>\n",
       "\t<li>70</li>\n",
       "\t<li>75</li>\n",
       "\t<li>80</li>\n",
       "\t<li>85</li>\n",
       "\t<li>90</li>\n",
       "\t<li>95</li>\n",
       "\t<li>100</li>\n",
       "</ol>\n"
      ],
      "text/latex": [
       "\\begin{enumerate*}\n",
       "\\item 20\n",
       "\\item 25\n",
       "\\item 30\n",
       "\\item 35\n",
       "\\item 40\n",
       "\\item 45\n",
       "\\item 50\n",
       "\\item 55\n",
       "\\item 60\n",
       "\\item 65\n",
       "\\item 70\n",
       "\\item 75\n",
       "\\item 80\n",
       "\\item 85\n",
       "\\item 90\n",
       "\\item 95\n",
       "\\item 100\n",
       "\\end{enumerate*}\n"
      ],
      "text/markdown": [
       "1. 20\n",
       "2. 25\n",
       "3. 30\n",
       "4. 35\n",
       "5. 40\n",
       "6. 45\n",
       "7. 50\n",
       "8. 55\n",
       "9. 60\n",
       "10. 65\n",
       "11. 70\n",
       "12. 75\n",
       "13. 80\n",
       "14. 85\n",
       "15. 90\n",
       "16. 95\n",
       "17. 100\n",
       "\n",
       "\n"
      ],
      "text/plain": [
       " [1]  20  25  30  35  40  45  50  55  60  65  70  75  80  85  90  95 100"
      ]
     },
     "execution_count": 5,
     "metadata": {},
     "output_type": "execute_result"
    }
   ],
   "source": [
    "#vector of sequence of numbers starting from 20 and ending to 100 with differenc of 5\n",
    "vec1<-seq(20,100,5)\n",
    "vec1"
   ]
  },
  {
   "cell_type": "markdown",
   "metadata": {
    "nbpresent": {
     "id": "9dad84ff-dab8-44a1-ac23-98290c100c04"
    }
   },
   "source": [
    "Now we know how to create vectors. So, lets try to extract data of vector, manipulate the data in vector which will be really important during data analysis."
   ]
  },
  {
   "cell_type": "code",
   "execution_count": 6,
   "metadata": {
    "collapsed": false,
    "nbpresent": {
     "id": "d7c5b82c-86ba-4897-9963-1e76e571f6dd"
    }
   },
   "outputs": [
    {
     "data": {
      "text/html": [
       "2"
      ],
      "text/latex": [
       "2"
      ],
      "text/markdown": [
       "2"
      ],
      "text/plain": [
       "[1] 2"
      ]
     },
     "execution_count": 6,
     "metadata": {},
     "output_type": "execute_result"
    }
   ],
   "source": [
    "#extract 2nd data of vector\n",
    "vec1<-seq(1,10,1)     #vector created\n",
    "vec1[2]               #extracts 2nd element of vec1"
   ]
  },
  {
   "cell_type": "code",
   "execution_count": 7,
   "metadata": {
    "collapsed": false,
    "nbpresent": {
     "id": "705205d2-0d14-460b-bdf6-96372f2fbe1c"
    }
   },
   "outputs": [
    {
     "data": {
      "text/html": [
       "'Kanchi'"
      ],
      "text/latex": [
       "'Kanchi'"
      ],
      "text/markdown": [
       "'Kanchi'"
      ],
      "text/plain": [
       "[1] \"Kanchi\""
      ]
     },
     "execution_count": 7,
     "metadata": {},
     "output_type": "execute_result"
    }
   ],
   "source": [
    "# let us define a vector with characters\n",
    "names<-c(\"Ram\",\"Shyam\",\"Geeta\",\"Kanchi\",\"Luri\",\"Sanu\")\n",
    "names[4]   #extracts the 4th data"
   ]
  },
  {
   "cell_type": "markdown",
   "metadata": {
    "nbpresent": {
     "id": "ad4d3aae-ee7f-46d2-8ff9-9cc8dbd086dc"
    }
   },
   "source": [
    "Lets try to extract the data using boolean expression.\n"
   ]
  },
  {
   "cell_type": "code",
   "execution_count": 8,
   "metadata": {
    "collapsed": false,
    "nbpresent": {
     "id": "b8cc16c3-f2cb-4efe-9f4d-b0149a3eef49"
    }
   },
   "outputs": [
    {
     "data": {
      "text/html": [
       "<ol class=list-inline>\n",
       "\t<li>1</li>\n",
       "\t<li>3</li>\n",
       "\t<li>7</li>\n",
       "\t<li>8</li>\n",
       "\t<li>9</li>\n",
       "\t<li>10</li>\n",
       "</ol>\n"
      ],
      "text/latex": [
       "\\begin{enumerate*}\n",
       "\\item 1\n",
       "\\item 3\n",
       "\\item 7\n",
       "\\item 8\n",
       "\\item 9\n",
       "\\item 10\n",
       "\\end{enumerate*}\n"
      ],
      "text/markdown": [
       "1. 1\n",
       "2. 3\n",
       "3. 7\n",
       "4. 8\n",
       "5. 9\n",
       "6. 10\n",
       "\n",
       "\n"
      ],
      "text/plain": [
       "[1]  1  3  7  8  9 10"
      ]
     },
     "execution_count": 8,
     "metadata": {},
     "output_type": "execute_result"
    }
   ],
   "source": [
    "vec2<-seq(1,10)  #vector from 1 to 10 sequence is created,\n",
    "pos<-c(T,F,T,F,F,F,T,T,T,T)   # a vector of boolean datatype is created\n",
    "\n",
    "#let us see what is printed when we print\n",
    "vec2[pos]    # note only the elements of vec2 is extracted for which the position is True"
   ]
  },
  {
   "cell_type": "code",
   "execution_count": 9,
   "metadata": {
    "collapsed": false,
    "nbpresent": {
     "id": "f279811a-1b66-4fcc-84ea-b691a8bc2224"
    }
   },
   "outputs": [
    {
     "data": {
      "text/html": [
       "<ol class=list-inline>\n",
       "\t<li>1</li>\n",
       "\t<li>2</li>\n",
       "\t<li>3</li>\n",
       "\t<li>4</li>\n",
       "\t<li>5</li>\n",
       "\t<li>6</li>\n",
       "\t<li>7</li>\n",
       "\t<li>8</li>\n",
       "\t<li>9</li>\n",
       "\t<li>10</li>\n",
       "\t<li>11</li>\n",
       "\t<li>12</li>\n",
       "</ol>\n"
      ],
      "text/latex": [
       "\\begin{enumerate*}\n",
       "\\item 1\n",
       "\\item 2\n",
       "\\item 3\n",
       "\\item 4\n",
       "\\item 5\n",
       "\\item 6\n",
       "\\item 7\n",
       "\\item 8\n",
       "\\item 9\n",
       "\\item 10\n",
       "\\item 11\n",
       "\\item 12\n",
       "\\end{enumerate*}\n"
      ],
      "text/markdown": [
       "1. 1\n",
       "2. 2\n",
       "3. 3\n",
       "4. 4\n",
       "5. 5\n",
       "6. 6\n",
       "7. 7\n",
       "8. 8\n",
       "9. 9\n",
       "10. 10\n",
       "11. 11\n",
       "12. 12\n",
       "\n",
       "\n"
      ],
      "text/plain": [
       " [1]  1  2  3  4  5  6  7  8  9 10 11 12"
      ]
     },
     "execution_count": 9,
     "metadata": {},
     "output_type": "execute_result"
    },
    {
     "data": {
      "text/html": [
       "<ol class=list-inline>\n",
       "\t<li>FALSE</li>\n",
       "\t<li>FALSE</li>\n",
       "\t<li>FALSE</li>\n",
       "\t<li>TRUE</li>\n",
       "\t<li>TRUE</li>\n",
       "\t<li>TRUE</li>\n",
       "\t<li>TRUE</li>\n",
       "\t<li>TRUE</li>\n",
       "\t<li>TRUE</li>\n",
       "\t<li>TRUE</li>\n",
       "\t<li>TRUE</li>\n",
       "\t<li>TRUE</li>\n",
       "</ol>\n"
      ],
      "text/latex": [
       "\\begin{enumerate*}\n",
       "\\item FALSE\n",
       "\\item FALSE\n",
       "\\item FALSE\n",
       "\\item TRUE\n",
       "\\item TRUE\n",
       "\\item TRUE\n",
       "\\item TRUE\n",
       "\\item TRUE\n",
       "\\item TRUE\n",
       "\\item TRUE\n",
       "\\item TRUE\n",
       "\\item TRUE\n",
       "\\end{enumerate*}\n"
      ],
      "text/markdown": [
       "1. FALSE\n",
       "2. FALSE\n",
       "3. FALSE\n",
       "4. TRUE\n",
       "5. TRUE\n",
       "6. TRUE\n",
       "7. TRUE\n",
       "8. TRUE\n",
       "9. TRUE\n",
       "10. TRUE\n",
       "11. TRUE\n",
       "12. TRUE\n",
       "\n",
       "\n"
      ],
      "text/plain": [
       " [1] FALSE FALSE FALSE  TRUE  TRUE  TRUE  TRUE  TRUE  TRUE  TRUE  TRUE  TRUE"
      ]
     },
     "execution_count": 9,
     "metadata": {},
     "output_type": "execute_result"
    }
   ],
   "source": [
    "#lets use logical expression to check for vectors\n",
    "\n",
    "vec3<-seq(1,12) # a vector of seq of number is created\n",
    "vec3            #displays vec3\n",
    "posGthan3<-vec3>3  # check if vec3 is greater then 3\n",
    "posGthan3          #position for which elements of vec3 is greather than 3"
   ]
  },
  {
   "cell_type": "markdown",
   "metadata": {
    "nbpresent": {
     "id": "cee84407-95d2-4ed4-b07a-ce363167c7eb"
    }
   },
   "source": [
    "Lets use boolean data types and vector extraction to get something useful.\n",
    "\n",
    "Let us create a data of age and names. Lets put age as vector age and names in vectors names\n",
    "\n",
    "    age              names\n",
    "    10               \"Ram\"\n",
    "    20                \"Geeta\"\n",
    "    19                \"Namrata\"\n",
    "    21                 \"Sushmita\"\n",
    "    23                 \"Sujata\"\n",
    "    29                 \"Manu\"\n",
    "    \n",
    "    \n",
    "    lets use above learnt things to display name whose age is above 23."
   ]
  },
  {
   "cell_type": "code",
   "execution_count": 10,
   "metadata": {
    "collapsed": false,
    "nbpresent": {
     "id": "97d851a6-fc18-42a2-a1ed-cefa5c1c654b"
    },
    "scrolled": false
   },
   "outputs": [
    {
     "data": {
      "text/html": [
       "'Manu'"
      ],
      "text/latex": [
       "'Manu'"
      ],
      "text/markdown": [
       "'Manu'"
      ],
      "text/plain": [
       "[1] \"Manu\""
      ]
     },
     "execution_count": 10,
     "metadata": {},
     "output_type": "execute_result"
    }
   ],
   "source": [
    "\n",
    "age<-c(10,20,19,21,23,29)# vector age is created\n",
    "name<-c(\"Ram\",\"Geeta\",\"Namrata\",\"Sushmita\",\"Sujata\",\"Manu\")  #vector name is created\n",
    "nameAgeGt23<-name[age>23]   # only names greater than 23 is placed on nameAgeGt23 is placed\n",
    "nameAgeGt23"
   ]
  },
  {
   "cell_type": "markdown",
   "metadata": {
    "nbpresent": {
     "id": "13822fdb-bdde-4370-a9de-468b98244c7f"
    }
   },
   "source": [
    "lets try adding a data to a vector"
   ]
  },
  {
   "cell_type": "code",
   "execution_count": 11,
   "metadata": {
    "collapsed": false,
    "nbpresent": {
     "id": "3a4dc8c6-af67-42ec-bb86-bb9a5f4876b6"
    }
   },
   "outputs": [
    {
     "data": {
      "text/html": [
       "<ol class=list-inline>\n",
       "\t<li>1</li>\n",
       "\t<li>2</li>\n",
       "\t<li>NA</li>\n",
       "\t<li>NA</li>\n",
       "\t<li>5</li>\n",
       "</ol>\n"
      ],
      "text/latex": [
       "\\begin{enumerate*}\n",
       "\\item 1\n",
       "\\item 2\n",
       "\\item NA\n",
       "\\item NA\n",
       "\\item 5\n",
       "\\end{enumerate*}\n"
      ],
      "text/markdown": [
       "1. 1\n",
       "2. 2\n",
       "3. NA\n",
       "4. NA\n",
       "5. 5\n",
       "\n",
       "\n"
      ],
      "text/plain": [
       "[1]  1  2 NA NA  5"
      ]
     },
     "execution_count": 11,
     "metadata": {},
     "output_type": "execute_result"
    }
   ],
   "source": [
    "# a vector of number is created\n",
    "vec3<-c(1,2)\n",
    "#entry 5 to 5th postion as there are no numbers in 3rd and 4th position NA(not a number ) will be palced on it\n",
    "vec3[5]<-5\n",
    "vec3"
   ]
  }
 ],
 "metadata": {
  "anaconda-cloud": {},
  "kernelspec": {
   "display_name": "R",
   "language": "R",
   "name": "ir"
  },
  "language_info": {
   "codemirror_mode": "r",
   "file_extension": ".r",
   "mimetype": "text/x-r-source",
   "name": "R",
   "pygments_lexer": "r",
   "version": "3.2.2"
  },
  "nbpresent": {
   "slides": {
    "087c8c1b-26d1-471e-a8ef-92fed44942d0": {
     "id": "087c8c1b-26d1-471e-a8ef-92fed44942d0",
     "prev": "5329af2c-f79f-405d-b7a7-23477f422b73",
     "regions": {
      "81be1b5c-e8e4-4e26-97af-1ac4b6cd11a1": {
       "attrs": {
        "height": 0.8,
        "width": 0.8,
        "x": 0.1,
        "y": 0.1
       },
       "content": {
        "cell": "97d851a6-fc18-42a2-a1ed-cefa5c1c654b",
        "part": "whole"
       },
       "id": "81be1b5c-e8e4-4e26-97af-1ac4b6cd11a1"
      }
     }
    },
    "2e033d02-f28f-4621-8c9a-bfd0d0c27785": {
     "id": "2e033d02-f28f-4621-8c9a-bfd0d0c27785",
     "prev": "d32e3d3b-81f6-468b-9a7d-01379fb077d5",
     "regions": {
      "9bc254d5-c271-4bce-9731-e734d2f62682": {
       "attrs": {
        "height": 0.8,
        "width": 0.8,
        "x": 0.1,
        "y": 0.1
       },
       "content": {
        "cell": "d7c5b82c-86ba-4897-9963-1e76e571f6dd",
        "part": "whole"
       },
       "id": "9bc254d5-c271-4bce-9731-e734d2f62682"
      }
     }
    },
    "342cc2fe-d408-491a-b566-d4fc3be877f9": {
     "id": "342cc2fe-d408-491a-b566-d4fc3be877f9",
     "prev": "c61f371d-3406-4a64-aff2-124fd5e258c5",
     "regions": {
      "c2b53df8-2e6d-4132-bd9b-c99b1d4938e1": {
       "attrs": {
        "height": 0.8,
        "width": 0.8,
        "x": 0.1,
        "y": 0.1
       },
       "content": {
        "cell": "da22bde7-6872-4a8d-b8cf-f2d02517d51c",
        "part": "whole"
       },
       "id": "c2b53df8-2e6d-4132-bd9b-c99b1d4938e1"
      }
     }
    },
    "350d981a-81d1-4946-8c02-02de32f61f06": {
     "id": "350d981a-81d1-4946-8c02-02de32f61f06",
     "prev": "7940b675-5b3d-4554-9bdd-0f1d8c9eb030",
     "regions": {
      "a658611c-4a18-4d35-94b4-e3829bbad01c": {
       "attrs": {
        "height": 0.8,
        "width": 0.8,
        "x": 0.1,
        "y": 0.1
       },
       "content": {
        "cell": "f279811a-1b66-4fcc-84ea-b691a8bc2224",
        "part": "whole"
       },
       "id": "a658611c-4a18-4d35-94b4-e3829bbad01c"
      }
     }
    },
    "3e237c22-e91e-4935-b434-99c095f9c73b": {
     "id": "3e237c22-e91e-4935-b434-99c095f9c73b",
     "prev": "b87f0cea-0dbd-4187-8777-ae5526b16e6c",
     "regions": {
      "aff4a6b8-1e99-4f87-9de3-f797a40dd1be": {
       "attrs": {
        "height": 0.8,
        "width": 0.8,
        "x": 0.1,
        "y": 0.1
       },
       "content": {
        "cell": "90384923-5c7c-4688-a1cf-eb53e122528a",
        "part": "whole"
       },
       "id": "aff4a6b8-1e99-4f87-9de3-f797a40dd1be"
      }
     }
    },
    "5329af2c-f79f-405d-b7a7-23477f422b73": {
     "id": "5329af2c-f79f-405d-b7a7-23477f422b73",
     "prev": "350d981a-81d1-4946-8c02-02de32f61f06",
     "regions": {
      "51864b94-1ca4-4d55-a7a6-8ddc3491beef": {
       "attrs": {
        "height": 0.8,
        "width": 0.8,
        "x": 0.1,
        "y": 0.1
       },
       "content": {
        "cell": "cee84407-95d2-4ed4-b07a-ce363167c7eb",
        "part": "whole"
       },
       "id": "51864b94-1ca4-4d55-a7a6-8ddc3491beef"
      }
     }
    },
    "5c5c71d4-cfa5-4914-beb7-82ad2d19dba3": {
     "id": "5c5c71d4-cfa5-4914-beb7-82ad2d19dba3",
     "prev": "2e033d02-f28f-4621-8c9a-bfd0d0c27785",
     "regions": {
      "da66b2a4-5334-41e9-8fc8-f6e61112ff1b": {
       "attrs": {
        "height": 0.8,
        "width": 0.8,
        "x": 0.1,
        "y": 0.1
       },
       "content": {
        "cell": "705205d2-0d14-460b-bdf6-96372f2fbe1c",
        "part": "whole"
       },
       "id": "da66b2a4-5334-41e9-8fc8-f6e61112ff1b"
      }
     }
    },
    "5e4034d6-4f6b-4a70-a996-5a535f617f9d": {
     "id": "5e4034d6-4f6b-4a70-a996-5a535f617f9d",
     "prev": null,
     "regions": {
      "72235e76-d535-499f-a511-c709fdceb0c3": {
       "attrs": {
        "height": 0.8,
        "width": 0.8,
        "x": 0.1,
        "y": 0.1
       },
       "content": {
        "cell": "53775afa-6f11-4eaf-b9c5-f79a699baa93",
        "part": "whole"
       },
       "id": "72235e76-d535-499f-a511-c709fdceb0c3"
      }
     }
    },
    "7940b675-5b3d-4554-9bdd-0f1d8c9eb030": {
     "id": "7940b675-5b3d-4554-9bdd-0f1d8c9eb030",
     "prev": "eb703d4f-df81-403c-adae-2d862b126223",
     "regions": {
      "318ac82b-cfff-4f09-b457-599ea8bd0ed8": {
       "attrs": {
        "height": 0.8,
        "width": 0.8,
        "x": 0.1,
        "y": 0.1
       },
       "content": {
        "cell": "b8cc16c3-f2cb-4efe-9f4d-b0149a3eef49",
        "part": "whole"
       },
       "id": "318ac82b-cfff-4f09-b457-599ea8bd0ed8"
      }
     }
    },
    "a040cf6c-efdb-4500-a026-68182c8488c6": {
     "id": "a040cf6c-efdb-4500-a026-68182c8488c6",
     "prev": "dc8fdf0a-e666-4c37-a5c9-60d371ba105a",
     "regions": {
      "6ce6b841-8ed5-479c-a86b-b394ba8e2893": {
       "attrs": {
        "height": 0.8,
        "width": 0.8,
        "x": 0.1,
        "y": 0.1
       },
       "content": {
        "cell": "3a4dc8c6-af67-42ec-bb86-bb9a5f4876b6",
        "part": "whole"
       },
       "id": "6ce6b841-8ed5-479c-a86b-b394ba8e2893"
      }
     }
    },
    "b87f0cea-0dbd-4187-8777-ae5526b16e6c": {
     "id": "b87f0cea-0dbd-4187-8777-ae5526b16e6c",
     "prev": "342cc2fe-d408-491a-b566-d4fc3be877f9",
     "regions": {
      "e7ceafe9-9f53-46d8-9048-7f47f8ac6182": {
       "attrs": {
        "height": 0.8,
        "width": 0.8,
        "x": 0.1,
        "y": 0.1
       },
       "content": {
        "cell": "64646a94-e98a-45b9-9ba9-9dabba2ca977",
        "part": "whole"
       },
       "id": "e7ceafe9-9f53-46d8-9048-7f47f8ac6182"
      }
     }
    },
    "c61f371d-3406-4a64-aff2-124fd5e258c5": {
     "id": "c61f371d-3406-4a64-aff2-124fd5e258c5",
     "prev": "5e4034d6-4f6b-4a70-a996-5a535f617f9d",
     "regions": {
      "e90795ac-dde7-4d00-af78-4d4a1a0aeedd": {
       "attrs": {
        "height": 0.8,
        "width": 0.8,
        "x": 0.1,
        "y": 0.1
       },
       "content": {
        "cell": "696b0b75-425c-47e6-9db0-6a208a8ccac6",
        "part": "whole"
       },
       "id": "e90795ac-dde7-4d00-af78-4d4a1a0aeedd"
      }
     }
    },
    "d32e3d3b-81f6-468b-9a7d-01379fb077d5": {
     "id": "d32e3d3b-81f6-468b-9a7d-01379fb077d5",
     "prev": "3e237c22-e91e-4935-b434-99c095f9c73b",
     "regions": {
      "4f74fcc6-2ce5-4105-9ec4-02ab2c9ba612": {
       "attrs": {
        "height": 0.8,
        "width": 0.8,
        "x": 0.1,
        "y": 0.1
       },
       "content": {
        "cell": "9dad84ff-dab8-44a1-ac23-98290c100c04",
        "part": "whole"
       },
       "id": "4f74fcc6-2ce5-4105-9ec4-02ab2c9ba612"
      }
     }
    },
    "dc8fdf0a-e666-4c37-a5c9-60d371ba105a": {
     "id": "dc8fdf0a-e666-4c37-a5c9-60d371ba105a",
     "prev": "087c8c1b-26d1-471e-a8ef-92fed44942d0",
     "regions": {
      "b3543512-232f-4cbf-a1a4-fad47a06ee35": {
       "attrs": {
        "height": 0.8,
        "width": 0.8,
        "x": 0.1,
        "y": 0.1
       },
       "content": {
        "cell": "13822fdb-bdde-4370-a9de-468b98244c7f",
        "part": "whole"
       },
       "id": "b3543512-232f-4cbf-a1a4-fad47a06ee35"
      }
     }
    },
    "eb703d4f-df81-403c-adae-2d862b126223": {
     "id": "eb703d4f-df81-403c-adae-2d862b126223",
     "prev": "5c5c71d4-cfa5-4914-beb7-82ad2d19dba3",
     "regions": {
      "9c499da2-ff67-4d4d-bc5a-9f2e3a0770d2": {
       "attrs": {
        "height": 0.8,
        "width": 0.8,
        "x": 0.1,
        "y": 0.1
       },
       "content": {
        "cell": "ad4d3aae-ee7f-46d2-8ff9-9cc8dbd086dc",
        "part": "whole"
       },
       "id": "9c499da2-ff67-4d4d-bc5a-9f2e3a0770d2"
      }
     }
    }
   },
   "themes": {}
  }
 },
 "nbformat": 4,
 "nbformat_minor": 0
}
