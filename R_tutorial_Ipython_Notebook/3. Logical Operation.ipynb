{
 "cells": [
  {
   "cell_type": "markdown",
   "metadata": {},
   "source": [
    "The operation that we studied at our lower classes to find greater than , less than are listed as logical checking. The result is boolan data types i.e T or F. Basic logical operaion are\n",
    "1. is greater than (>)\n",
    "2. is less than (<)\n",
    "3. is equal to (==) Note its double equals to not single\n",
    "4. is greather or equal to (>=)\n",
    "5. is less or equal to (<=)\n",
    "6. is not equal to (!=)\n",
    "\n",
    "Lets check it.\n"
   ]
  },
  {
   "cell_type": "code",
   "execution_count": 1,
   "metadata": {
    "collapsed": false
   },
   "outputs": [
    {
     "data": {
      "text/html": [
       "FALSE"
      ],
      "text/latex": [
       "FALSE"
      ],
      "text/markdown": [
       "FALSE"
      ],
      "text/plain": [
       "[1] FALSE"
      ]
     },
     "execution_count": 1,
     "metadata": {},
     "output_type": "execute_result"
    }
   ],
   "source": [
    "#check logically is 2 greather than 3. Its false so answer must be false\n",
    "2>3"
   ]
  },
  {
   "cell_type": "code",
   "execution_count": 2,
   "metadata": {
    "collapsed": false
   },
   "outputs": [
    {
     "data": {
      "text/html": [
       "FALSE"
      ],
      "text/latex": [
       "FALSE"
      ],
      "text/markdown": [
       "FALSE"
      ],
      "text/plain": [
       "[1] FALSE"
      ]
     },
     "execution_count": 2,
     "metadata": {},
     "output_type": "execute_result"
    }
   ],
   "source": [
    "#is 2 equals to 3. Its false\n",
    "2==3\n"
   ]
  },
  {
   "cell_type": "code",
   "execution_count": 3,
   "metadata": {
    "collapsed": false
   },
   "outputs": [
    {
     "data": {
      "text/html": [
       "TRUE"
      ],
      "text/latex": [
       "TRUE"
      ],
      "text/markdown": [
       "TRUE"
      ],
      "text/plain": [
       "[1] TRUE"
      ]
     },
     "execution_count": 3,
     "metadata": {},
     "output_type": "execute_result"
    }
   ],
   "source": [
    "# Is 2 not equal to 3. Its true\n",
    "2!=3"
   ]
  },
  {
   "cell_type": "code",
   "execution_count": 4,
   "metadata": {
    "collapsed": false
   },
   "outputs": [
    {
     "data": {
      "text/html": [
       "TRUE"
      ],
      "text/latex": [
       "TRUE"
      ],
      "text/markdown": [
       "TRUE"
      ],
      "text/plain": [
       "[1] TRUE"
      ]
     },
     "execution_count": 4,
     "metadata": {},
     "output_type": "execute_result"
    }
   ],
   "source": [
    "#Is 2 less than or equal to 3. Yes\n",
    "2<=3"
   ]
  },
  {
   "cell_type": "markdown",
   "metadata": {},
   "source": [
    "Try playing with these operation. It is most important in data analysis.\n",
    "\n",
    "There are two operators that connects various logical values. Those are logical and (&) and logical or(|).\n",
    "As it will be difficult for you to understand the boolean algebra. I will try to put it in simple way.\n",
    "\n",
    "1. If any one of the statement is false in and operation then whole result is false.\n",
    "eg \n",
    "\n",
    "    T and T = T\n",
    "    \n",
    "    T and F = F\n",
    "    \n",
    "    F and F = F\n",
    "    \n",
    "    F and T = F\n",
    "   \n",
    "2. If any one statement is true in or operation then whole result is True\n",
    "eg \n",
    "\n",
    "    T or T = T\n",
    "    \n",
    "    F or T = T\n",
    "    \n",
    "    T or F = F\n",
    "    \n",
    "    F or F = F\n",
    "   \n",
    "   \n",
    "   Lets implement these"
   ]
  },
  {
   "cell_type": "code",
   "execution_count": 7,
   "metadata": {
    "collapsed": false
   },
   "outputs": [
    {
     "data": {
      "text/html": [
       "TRUE"
      ],
      "text/latex": [
       "TRUE"
      ],
      "text/markdown": [
       "TRUE"
      ],
      "text/plain": [
       "[1] TRUE"
      ]
     },
     "execution_count": 7,
     "metadata": {},
     "output_type": "execute_result"
    }
   ],
   "source": [
    "2>2 | 3<4 # first statement is false and 2nd statement is true. We are using or(|) operator here so F or T = T.\n",
    "            # so the final result is true"
   ]
  },
  {
   "cell_type": "code",
   "execution_count": 8,
   "metadata": {
    "collapsed": false
   },
   "outputs": [
    {
     "data": {
      "text/html": [
       "FALSE"
      ],
      "text/latex": [
       "FALSE"
      ],
      "text/markdown": [
       "FALSE"
      ],
      "text/plain": [
       "[1] FALSE"
      ]
     },
     "execution_count": 8,
     "metadata": {},
     "output_type": "execute_result"
    }
   ],
   "source": [
    "2>2 & 3<4 # first statement is false and 2nd statement is true. We are using and (&) operator so F and T = F."
   ]
  },
  {
   "cell_type": "code",
   "execution_count": 9,
   "metadata": {
    "collapsed": false
   },
   "outputs": [
    {
     "data": {
      "text/html": [
       "TRUE"
      ],
      "text/latex": [
       "TRUE"
      ],
      "text/markdown": [
       "TRUE"
      ],
      "text/plain": [
       "[1] TRUE"
      ]
     },
     "execution_count": 9,
     "metadata": {},
     "output_type": "execute_result"
    }
   ],
   "source": [
    "            #let try to put it in simple manner\n",
    "4>5 | 5<6   # if among two operation is (4>5 or 5<6) true. i.e if anyone is true its ture as or gives option that one \n",
    "            # correct leads to correctness of entire statement."
   ]
  },
  {
   "cell_type": "markdown",
   "metadata": {},
   "source": [
    "lets see abit advanced statement\n",
    "\n",
    "Is (5>4|5>6)&(2==3|4>5) true?\n",
    "\n",
    "Here lets break it into two statements \n",
    "\n",
    "A. (5>4 | 5>6). It has or operator so if any one is true whole statemtn is true. As 5>4 is true. The statement is true.\n",
    "\n",
    "B. (2==3|4>5). It also has or operator so if any one is true whole statement is true.Both statement is false. The statemnet is false.\n",
    "\n",
    "Now lets try to unite both (Statement A) & (Statement B) ---> True & False ----> False\n",
    "\n",
    "As in and operation both statement must be true for the final result to be true.\n",
    "\n"
   ]
  },
  {
   "cell_type": "code",
   "execution_count": 10,
   "metadata": {
    "collapsed": false
   },
   "outputs": [
    {
     "data": {
      "text/html": [
       "FALSE"
      ],
      "text/latex": [
       "FALSE"
      ],
      "text/markdown": [
       "FALSE"
      ],
      "text/plain": [
       "[1] FALSE"
      ]
     },
     "execution_count": 10,
     "metadata": {},
     "output_type": "execute_result"
    }
   ],
   "source": [
    "(5>4|5>6)&(2==3|4>5)"
   ]
  },
  {
   "cell_type": "code",
   "execution_count": null,
   "metadata": {
    "collapsed": true
   },
   "outputs": [],
   "source": []
  }
 ],
 "metadata": {
  "kernelspec": {
   "display_name": "R",
   "language": "R",
   "name": "ir"
  },
  "language_info": {
   "codemirror_mode": "r",
   "file_extension": ".r",
   "mimetype": "text/x-r-source",
   "name": "R",
   "pygments_lexer": "r",
   "version": "3.2.2"
  }
 },
 "nbformat": 4,
 "nbformat_minor": 0
}
