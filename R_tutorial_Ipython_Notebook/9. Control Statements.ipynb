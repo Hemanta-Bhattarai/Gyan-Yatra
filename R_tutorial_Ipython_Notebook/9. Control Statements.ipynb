{
 "cells": [
  {
   "cell_type": "markdown",
   "metadata": {},
   "source": [
    "As I already mentioned you R is a baby child which knows some words and some process. And our job is to make our work possible using limited number of words and process known by the child \"R\". \n",
    "\n",
    "In our day to day life we have some decison making statements like\n",
    "\n",
    "If I have money then I can buy the goods else I cannot buy goods. Similar type of statements in R is called control statements as it controls upon the cases.\n",
    "\n",
    "Sometimes there might be different cases like in daily life\n",
    "\n",
    "if dad gives money then spend it \n",
    "\n",
    "else if mom gives money dont take\n",
    "\n",
    "else borrow from friends\n",
    "\n",
    "If-else statements in R are called control statements \n",
    "\n",
    "The syntax is\n",
    "\n",
    "    if(---condition----){\n",
    "        <---process---->\n",
    "        <---process....>\n",
    "    }else{\n",
    "         <----process.....>\n",
    "         <-----process.....>\n",
    "    }\n",
    "    \n",
    "The syntax for the more than two cases is\n",
    "    \n",
    "      if(---condition----){\n",
    "         <----process----->\n",
    "         <----process----->\n",
    "      }else if(----condition-----){\n",
    "          <----process----->\n",
    "          <----process----->\n",
    "          \n",
    "      }else if(-----condition-----){\n",
    "          <-----process----->\n",
    "          <-----process----->\n",
    "      }else{\n",
    "          <-----process------>\n",
    "          <-----process------>\n",
    "      }"
   ]
  },
  {
   "cell_type": "code",
   "execution_count": 9,
   "metadata": {
    "collapsed": false
   },
   "outputs": [
    {
     "name": "stdout",
     "output_type": "stream",
     "text": [
      "[1] \"It is even\"\n"
     ]
    }
   ],
   "source": [
    "# simple implementation of if-else statement.\n",
    "# check if the value of x is even or odd we know x%%2 returns the reminder when x is divided by 2\n",
    "x<-8                          # x is assigned 8\n",
    "if(x%%2==0){                 #checking if x divided by 2 is 0\n",
    "    print(\"It is even\")     # if x divided by 2 is 0 then it prints even\n",
    "}else{\n",
    "    print(\"It is odd\")      # if first condition is false then it prints it is odd\n",
    "}\n"
   ]
  },
  {
   "cell_type": "code",
   "execution_count": 14,
   "metadata": {
    "collapsed": false
   },
   "outputs": [
    {
     "name": "stdout",
     "output_type": "stream",
     "text": [
      "[1] \"**************************************************\"\n",
      "[1] \"* Hi Namrata, You are confident. Never loose it. *\"\n",
      "[1] \"**************************************************\"\n"
     ]
    }
   ],
   "source": [
    "# lets try a complicated case where ther are more than two cases\n",
    "# try modifying name with Sujata, Namrata, Manu to see result\n",
    "\n",
    "\n",
    "name<-\"Namrata\"     # Try with other names like Sujata, Namrata or Manu\n",
    "\n",
    "\n",
    "if(name==\"Sujata\"){\n",
    "    print(\"***************************\")\n",
    "    print(\"* Hi Sujata, Keep smiling *\")\n",
    "    print(\"***************************\")\n",
    "\n",
    "}else if (name==\"Namrata\"){\n",
    "    print(\"**************************************************\")\n",
    "    print(\"* Hi Namrata, You are confident. Never loose it. *\")\n",
    "    print(\"**************************************************\")\n",
    "}else if(name==\"Manu\"){\n",
    "    \n",
    "    print(\"Hi Manu, Do you know you are KHADOOS!!!!!!\")\n",
    "}else{\n",
    "    print(\"Hello, Are you serios. I cannot find you in my database. Illegal entry\")\n",
    "}\n"
   ]
  },
  {
   "cell_type": "markdown",
   "metadata": {},
   "source": [
    "When a if-else statement is written as process of a if statement then it is called nested statement. I wont be going though this. You can look it on your own and have fun.\n",
    "\n",
    "Some times the a condition is the combination of 2 conditions. Like if we want to check if a number is multiple of 2 or 3. We must check if the number is divisible by 2 or 3. Lets try to implement this\n"
   ]
  },
  {
   "cell_type": "code",
   "execution_count": 16,
   "metadata": {
    "collapsed": false
   },
   "outputs": [
    {
     "name": "stdout",
     "output_type": "stream",
     "text": [
      "[1] \"Sorry,the number is not multiple of 2 or 3\"\n"
     ]
    }
   ],
   "source": [
    "num<-55 # a number defined\n",
    "if(num%%2==0 || num%%3==0){\n",
    "    print(\"True, the number is multiple of 2 or 3\")\n",
    "}else{\n",
    "    print(\"Sorry,the number is not multiple of 2 or 3\")\n",
    "}"
   ]
  },
  {
   "cell_type": "code",
   "execution_count": null,
   "metadata": {
    "collapsed": true
   },
   "outputs": [],
   "source": []
  }
 ],
 "metadata": {
  "anaconda-cloud": {},
  "kernelspec": {
   "display_name": "R",
   "language": "R",
   "name": "ir"
  },
  "language_info": {
   "codemirror_mode": "r",
   "file_extension": ".r",
   "mimetype": "text/x-r-source",
   "name": "R",
   "pygments_lexer": "r",
   "version": "3.2.2"
  }
 },
 "nbformat": 4,
 "nbformat_minor": 0
}
