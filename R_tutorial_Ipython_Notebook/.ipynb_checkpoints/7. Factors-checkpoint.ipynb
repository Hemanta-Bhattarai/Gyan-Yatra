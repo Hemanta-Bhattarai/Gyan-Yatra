{
 "cells": [
  {
   "cell_type": "markdown",
   "metadata": {
    "collapsed": true
   },
   "source": [
    "Factors:\n",
    "\n",
    "When data has no numerical value or ordinal values then it is good to handle using factors. Factors are the data of the characters.\n",
    "\n",
    "Let us specify 5 groups of people with different characteristics as 1,2,3 ,4 ,5. But here the gropu 1 and 2 dont have anything to do with 2 being greater than 1 its just the label for different groups.\n",
    "\n",
    "Such data is handeled with factors."
   ]
  },
  {
   "cell_type": "code",
   "execution_count": 30,
   "metadata": {
    "collapsed": false
   },
   "outputs": [
    {
     "data": {
      "text/plain": [
       "dataFactor\n",
       "1 2 3 4 5 \n",
       "6 6 6 4 6 "
      ]
     },
     "execution_count": 30,
     "metadata": {},
     "output_type": "execute_result"
    }
   ],
   "source": [
    "# let us define a vector of numbers 1 2 3 4 5 with different repeatation\n",
    "data<-c(1,2,1,3,4,5,3,4,5,2,3,4,1,5,5,5,2,2,3,4,5,1,1,1,2,3,3,2)\n",
    "#but the data is just the label so we can use it as factors\n",
    "dataFactor<-factor(data)\n",
    "#forms the table for the dataFactor\n",
    "dataTable<-table(dataFactor)\n",
    "#prints out the differnt lables and the number for each labels\n",
    "dataTable\n"
   ]
  },
  {
   "cell_type": "markdown",
   "metadata": {},
   "source": [
    "Data Frame\n",
    "\n",
    "We have known different data holders like list, vectors and matrix. Now let us make data frame using a data in data holders. Let us form a data of name, age, sex as a data frame."
   ]
  },
  {
   "cell_type": "code",
   "execution_count": 31,
   "metadata": {
    "collapsed": false
   },
   "outputs": [
    {
     "name": "stdout",
     "output_type": "stream",
     "text": [
      "       Name Age Sex\n",
      "1      Amar  21   M\n",
      "2    Sujata  23   F\n",
      "3      Ajit  22   M\n",
      "4 Subekchya  22   F\n"
     ]
    }
   ],
   "source": [
    "# forming a  list of data for name, age, sex.\n",
    "names<-c(\"Amar\",\"Sujata\",\"Ajit\",\"Subekchya\")\n",
    "sex<-c(\"M\",\"F\",\"M\",\"F\")\n",
    "age<-c(21,23,22,22)\n",
    "data<-list(Name=names,Age=age,Sex=sex)\n",
    "#forms data frame of data using function data.frame(---var----)\n",
    "dataFrame<-data.frame(data)\n",
    "print(dataFrame)"
   ]
  },
  {
   "cell_type": "code",
   "execution_count": 32,
   "metadata": {
    "collapsed": false
   },
   "outputs": [
    {
     "data": {
      "text/html": [
       "<ol class=list-inline>\n",
       "\t<li>Amar</li>\n",
       "\t<li>Sujata</li>\n",
       "\t<li>Ajit</li>\n",
       "\t<li>Subekchya</li>\n",
       "</ol>\n"
      ],
      "text/latex": [
       "\\begin{enumerate*}\n",
       "\\item Amar\n",
       "\\item Sujata\n",
       "\\item Ajit\n",
       "\\item Subekchya\n",
       "\\end{enumerate*}\n"
      ],
      "text/markdown": [
       "1. Amar\n",
       "2. Sujata\n",
       "3. Ajit\n",
       "4. Subekchya\n",
       "\n",
       "\n"
      ],
      "text/plain": [
       "[1] Amar      Sujata    Ajit      Subekchya\n",
       "Levels: Ajit Amar Subekchya Sujata"
      ]
     },
     "execution_count": 32,
     "metadata": {},
     "output_type": "execute_result"
    }
   ],
   "source": [
    "# to extract a specific data from data frame we use\n",
    "# dataFrameName$Name_of_data\n",
    "# if we want to extract the Names data from dataFrame it can be done by dataFrame$Name\n",
    "nameExtract<-dataFrame$Name\n",
    "nameExtract"
   ]
  },
  {
   "cell_type": "code",
   "execution_count": 33,
   "metadata": {
    "collapsed": false
   },
   "outputs": [
    {
     "data": {
      "text/html": [
       "<ol class=list-inline>\n",
       "\t<li>Sujata</li>\n",
       "\t<li>Subekchya</li>\n",
       "</ol>\n"
      ],
      "text/latex": [
       "\\begin{enumerate*}\n",
       "\\item Sujata\n",
       "\\item Subekchya\n",
       "\\end{enumerate*}\n"
      ],
      "text/markdown": [
       "1. Sujata\n",
       "2. Subekchya\n",
       "\n",
       "\n"
      ],
      "text/plain": [
       "[1] Sujata    Subekchya\n",
       "Levels: Ajit Amar Subekchya Sujata"
      ]
     },
     "execution_count": 33,
     "metadata": {},
     "output_type": "execute_result"
    }
   ],
   "source": [
    "#let us try printing only names of female\n",
    "nameFemale<-dataFrame$Name[dataFrame$Sex==\"F\"]\n",
    "nameFemale"
   ]
  },
  {
   "cell_type": "code",
   "execution_count": 36,
   "metadata": {
    "collapsed": false
   },
   "outputs": [
    {
     "data": {
      "text/html": [
       "Sujata"
      ],
      "text/latex": [
       "Sujata"
      ],
      "text/markdown": [
       "Sujata"
      ],
      "text/plain": [
       "[1] Sujata\n",
       "Levels: Ajit Amar Subekchya Sujata"
      ]
     },
     "execution_count": 36,
     "metadata": {},
     "output_type": "execute_result"
    }
   ],
   "source": [
    "#let us try printing only name of person age greater than 22\n",
    "dataFrame$Name[dataFrame$Age>22]\n"
   ]
  },
  {
   "cell_type": "markdown",
   "metadata": {},
   "source": [
    "Handling a data from is very important task for analysis. So please try practicing it with other data also."
   ]
  }
 ],
 "metadata": {
  "anaconda-cloud": {},
  "kernelspec": {
   "display_name": "R",
   "language": "R",
   "name": "ir"
  },
  "language_info": {
   "codemirror_mode": "r",
   "file_extension": ".r",
   "mimetype": "text/x-r-source",
   "name": "R",
   "pygments_lexer": "r",
   "version": "3.2.2"
  }
 },
 "nbformat": 4,
 "nbformat_minor": 0
}
