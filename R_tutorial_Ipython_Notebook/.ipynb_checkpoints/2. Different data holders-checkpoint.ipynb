{
 "cells": [
  {
   "cell_type": "markdown",
   "metadata": {},
   "source": [
    "The different types of data holders in R are\n",
    "1. Vector\n",
    "2. List\n",
    "3. Matrix\n",
    "\n",
    "\n",
    "\n",
    "1. Vector:\n",
    "    Dont get confused with the vector that you have read at your school and college. Its just a sequence of data placed in columns. If we want to enter a sequence of data to a variable we use vector data holder. Lets say we want to save the age of different person to a variable age. Then"
   ]
  },
  {
   "cell_type": "markdown",
   "metadata": {},
   "source": [
    "Add different ages to a variable age"
   ]
  },
  {
   "cell_type": "code",
   "execution_count": 1,
   "metadata": {
    "collapsed": false
   },
   "outputs": [
    {
     "name": "stdout",
     "output_type": "stream",
     "text": [
      "[1] 10 15 20 30 12 11\n"
     ]
    }
   ],
   "source": [
    "age<-c(10,15,20,30,12,11) \n",
    "print(age) \n"
   ]
  },
  {
   "cell_type": "markdown",
   "metadata": {},
   "source": [
    "Here age is a variable\n",
    "\n",
    "<- symbols for assigns as discussed previously\n",
    "\n",
    "c(--data---) can be simply perceived as column of data\n"
   ]
  },
  {
   "cell_type": "markdown",
   "metadata": {},
   "source": [
    "Let us try to add names of person in the variable names."
   ]
  },
  {
   "cell_type": "code",
   "execution_count": 2,
   "metadata": {
    "collapsed": false
   },
   "outputs": [
    {
     "name": "stdout",
     "output_type": "stream",
     "text": [
      "[1] \"Manu\"   \"Kanchi\" \"Sanu\"   \"Sujata\"\n"
     ]
    }
   ],
   "source": [
    "names<-c(\"Manu\",\"Kanchi\",\"Sanu\",\"Sujata\")\n",
    "print(names)"
   ]
  },
  {
   "cell_type": "markdown",
   "metadata": {},
   "source": [
    "Lets try to put different data types in same variable"
   ]
  },
  {
   "cell_type": "code",
   "execution_count": 3,
   "metadata": {
    "collapsed": false
   },
   "outputs": [
    {
     "data": {
      "text/html": [
       "<ol class=list-inline>\n",
       "\t<li>'Name'</li>\n",
       "\t<li>'100'</li>\n",
       "\t<li>'TRUE'</li>\n",
       "\t<li>'2+3i'</li>\n",
       "</ol>\n"
      ],
      "text/latex": [
       "\\begin{enumerate*}\n",
       "\\item 'Name'\n",
       "\\item '100'\n",
       "\\item 'TRUE'\n",
       "\\item '2+3i'\n",
       "\\end{enumerate*}\n"
      ],
      "text/markdown": [
       "1. 'Name'\n",
       "2. '100'\n",
       "3. 'TRUE'\n",
       "4. '2+3i'\n",
       "\n",
       "\n"
      ],
      "text/plain": [
       "[1] \"Name\" \"100\"  \"TRUE\" \"2+3i\""
      ]
     },
     "execution_count": 3,
     "metadata": {},
     "output_type": "execute_result"
    }
   ],
   "source": [
    "data<-c(\"Name\",100,TRUE,2+3i)\n",
    "data # you could also use print(data) to print the result"
   ]
  },
  {
   "cell_type": "markdown",
   "metadata": {},
   "source": [
    "Here, we can see that we created a vector with a character, a integer, a boolean and a complex number and assigned the vecotr to a varibale named data. When we print data we expect a character, integer, boolean and complex number. However, we can see that each of the data is converted to character. So, a vecotr cannot contain different data types. It has to contain same data type. Otherwise, the data type will be changed.\n",
    "\n",
    "To get rid of this problem, we need list. So, the second data holder is list.\n",
    "\n",
    "2.List\n",
    "\n",
    "As vector is defined with c(---data---). The list is defined by list(----data----)"
   ]
  },
  {
   "cell_type": "code",
   "execution_count": 4,
   "metadata": {
    "collapsed": false
   },
   "outputs": [
    {
     "data": {
      "text/html": [
       "<ol>\n",
       "\t<li>'Name'</li>\n",
       "\t<li>100</li>\n",
       "\t<li>TRUE</li>\n",
       "\t<li>NULL</li>\n",
       "</ol>\n"
      ],
      "text/latex": [
       "\\begin{enumerate}\n",
       "\\item 'Name'\n",
       "\\item 100\n",
       "\\item TRUE\n",
       "\\item NULL\n",
       "\\end{enumerate}\n"
      ],
      "text/markdown": [
       "1. 'Name'\n",
       "2. 100\n",
       "3. TRUE\n",
       "4. NULL\n",
       "\n",
       "\n"
      ],
      "text/plain": [
       "[[1]]\n",
       "[1] \"Name\"\n",
       "\n",
       "[[2]]\n",
       "[1] 100\n",
       "\n",
       "[[3]]\n",
       "[1] TRUE\n",
       "\n",
       "[[4]]\n",
       "[1] 2+3i\n"
      ]
     },
     "execution_count": 4,
     "metadata": {},
     "output_type": "execute_result"
    }
   ],
   "source": [
    "data_list<-list(\"Name\",100,T,2+3i)\n",
    "data_list"
   ]
  },
  {
   "cell_type": "markdown",
   "metadata": {},
   "source": [
    "We can make a list of varios vectors of different data set. Eg. let us say we have data of names, sex, age, driks or not(T or F) i.e\n",
    "\n",
    "    Name              Sex         age            drinks\n",
    "    Hemanta           M           29             T\n",
    "    Sanu              F           21             F\n",
    "    Kanchi            F           19             F\n",
    "    Luri              F           23             F\n",
    "    \n",
    "Let us try making list of this data set."
   ]
  },
  {
   "cell_type": "code",
   "execution_count": 7,
   "metadata": {
    "collapsed": false,
    "scrolled": true
   },
   "outputs": [
    {
     "data": {
      "text/html": [
       "<dl>\n",
       "\t<dt>$Name</dt>\n",
       "\t\t<dd><ol class=list-inline>\n",
       "\t<li>'Hemanta'</li>\n",
       "\t<li>'Sanu'</li>\n",
       "\t<li>'Kanchi'</li>\n",
       "\t<li>'Luri'</li>\n",
       "</ol>\n",
       "</dd>\n",
       "\t<dt>$Sex</dt>\n",
       "\t\t<dd><ol class=list-inline>\n",
       "\t<li>'M'</li>\n",
       "\t<li>'F'</li>\n",
       "\t<li>'F'</li>\n",
       "\t<li>'F'</li>\n",
       "</ol>\n",
       "</dd>\n",
       "\t<dt>$Age</dt>\n",
       "\t\t<dd><ol class=list-inline>\n",
       "\t<li>29</li>\n",
       "\t<li>21</li>\n",
       "\t<li>19</li>\n",
       "\t<li>23</li>\n",
       "</ol>\n",
       "</dd>\n",
       "\t<dt>$Drinks</dt>\n",
       "\t\t<dd><ol class=list-inline>\n",
       "\t<li>TRUE</li>\n",
       "\t<li>FALSE</li>\n",
       "\t<li>FALSE</li>\n",
       "\t<li>FALSE</li>\n",
       "</ol>\n",
       "</dd>\n",
       "</dl>\n"
      ],
      "text/latex": [
       "\\begin{description}\n",
       "\\item[\\$Name] \\begin{enumerate*}\n",
       "\\item 'Hemanta'\n",
       "\\item 'Sanu'\n",
       "\\item 'Kanchi'\n",
       "\\item 'Luri'\n",
       "\\end{enumerate*}\n",
       "\n",
       "\\item[\\$Sex] \\begin{enumerate*}\n",
       "\\item 'M'\n",
       "\\item 'F'\n",
       "\\item 'F'\n",
       "\\item 'F'\n",
       "\\end{enumerate*}\n",
       "\n",
       "\\item[\\$Age] \\begin{enumerate*}\n",
       "\\item 29\n",
       "\\item 21\n",
       "\\item 19\n",
       "\\item 23\n",
       "\\end{enumerate*}\n",
       "\n",
       "\\item[\\$Drinks] \\begin{enumerate*}\n",
       "\\item TRUE\n",
       "\\item FALSE\n",
       "\\item FALSE\n",
       "\\item FALSE\n",
       "\\end{enumerate*}\n",
       "\n",
       "\\end{description}\n"
      ],
      "text/markdown": [
       "$Name\n",
       ":   1. 'Hemanta'\n",
       "2. 'Sanu'\n",
       "3. 'Kanchi'\n",
       "4. 'Luri'\n",
       "\n",
       "\n",
       "\n",
       "$Sex\n",
       ":   1. 'M'\n",
       "2. 'F'\n",
       "3. 'F'\n",
       "4. 'F'\n",
       "\n",
       "\n",
       "\n",
       "$Age\n",
       ":   1. 29\n",
       "2. 21\n",
       "3. 19\n",
       "4. 23\n",
       "\n",
       "\n",
       "\n",
       "$Drinks\n",
       ":   1. TRUE\n",
       "2. FALSE\n",
       "3. FALSE\n",
       "4. FALSE\n",
       "\n",
       "\n",
       "\n",
       "\n",
       "\n"
      ],
      "text/plain": [
       "$Name\n",
       "[1] \"Hemanta\" \"Sanu\"    \"Kanchi\"  \"Luri\"   \n",
       "\n",
       "$Sex\n",
       "[1] \"M\" \"F\" \"F\" \"F\"\n",
       "\n",
       "$Age\n",
       "[1] 29 21 19 23\n",
       "\n",
       "$Drinks\n",
       "[1]  TRUE FALSE FALSE FALSE\n"
      ]
     },
     "execution_count": 7,
     "metadata": {},
     "output_type": "execute_result"
    }
   ],
   "source": [
    "dataList<-list(Name=c(\"Hemanta\",\"Sanu\",\"Kanchi\",\"Luri\"),Sex=c(\"M\",\"F\",\"F\",\"F\"),Age=c(29,21,19,23),Drinks=c(T,F,F,F))\n",
    "dataList"
   ]
  },
  {
   "cell_type": "markdown",
   "metadata": {},
   "source": [
    "It can be done in other way. In abit clear form. Dont get scared it has some lines of coding. I will be explaining each line with commenting with #.... ..... ..... Note: Any line written after # wont be read by R complier, if you want to write the information about the line or document your code just write after #"
   ]
  },
  {
   "cell_type": "code",
   "execution_count": 8,
   "metadata": {
    "collapsed": false
   },
   "outputs": [
    {
     "data": {
      "text/html": [
       "<dl>\n",
       "\t<dt>$Name</dt>\n",
       "\t\t<dd><ol class=list-inline>\n",
       "\t<li>'Hemanta'</li>\n",
       "\t<li>'Sanu'</li>\n",
       "\t<li>'Kanchi'</li>\n",
       "\t<li>'Luri'</li>\n",
       "</ol>\n",
       "</dd>\n",
       "\t<dt>$Sex</dt>\n",
       "\t\t<dd><ol class=list-inline>\n",
       "\t<li>'M'</li>\n",
       "\t<li>'F'</li>\n",
       "\t<li>'F'</li>\n",
       "\t<li>'F'</li>\n",
       "</ol>\n",
       "</dd>\n",
       "\t<dt>$Age</dt>\n",
       "\t\t<dd><ol class=list-inline>\n",
       "\t<li>29</li>\n",
       "\t<li>21</li>\n",
       "\t<li>19</li>\n",
       "\t<li>23</li>\n",
       "</ol>\n",
       "</dd>\n",
       "\t<dt>$Drinks</dt>\n",
       "\t\t<dd><ol class=list-inline>\n",
       "\t<li>TRUE</li>\n",
       "\t<li>FALSE</li>\n",
       "\t<li>FALSE</li>\n",
       "\t<li>FALSE</li>\n",
       "</ol>\n",
       "</dd>\n",
       "</dl>\n"
      ],
      "text/latex": [
       "\\begin{description}\n",
       "\\item[\\$Name] \\begin{enumerate*}\n",
       "\\item 'Hemanta'\n",
       "\\item 'Sanu'\n",
       "\\item 'Kanchi'\n",
       "\\item 'Luri'\n",
       "\\end{enumerate*}\n",
       "\n",
       "\\item[\\$Sex] \\begin{enumerate*}\n",
       "\\item 'M'\n",
       "\\item 'F'\n",
       "\\item 'F'\n",
       "\\item 'F'\n",
       "\\end{enumerate*}\n",
       "\n",
       "\\item[\\$Age] \\begin{enumerate*}\n",
       "\\item 29\n",
       "\\item 21\n",
       "\\item 19\n",
       "\\item 23\n",
       "\\end{enumerate*}\n",
       "\n",
       "\\item[\\$Drinks] \\begin{enumerate*}\n",
       "\\item TRUE\n",
       "\\item FALSE\n",
       "\\item FALSE\n",
       "\\item FALSE\n",
       "\\end{enumerate*}\n",
       "\n",
       "\\end{description}\n"
      ],
      "text/markdown": [
       "$Name\n",
       ":   1. 'Hemanta'\n",
       "2. 'Sanu'\n",
       "3. 'Kanchi'\n",
       "4. 'Luri'\n",
       "\n",
       "\n",
       "\n",
       "$Sex\n",
       ":   1. 'M'\n",
       "2. 'F'\n",
       "3. 'F'\n",
       "4. 'F'\n",
       "\n",
       "\n",
       "\n",
       "$Age\n",
       ":   1. 29\n",
       "2. 21\n",
       "3. 19\n",
       "4. 23\n",
       "\n",
       "\n",
       "\n",
       "$Drinks\n",
       ":   1. TRUE\n",
       "2. FALSE\n",
       "3. FALSE\n",
       "4. FALSE\n",
       "\n",
       "\n",
       "\n",
       "\n",
       "\n"
      ],
      "text/plain": [
       "$Name\n",
       "[1] \"Hemanta\" \"Sanu\"    \"Kanchi\"  \"Luri\"   \n",
       "\n",
       "$Sex\n",
       "[1] \"M\" \"F\" \"F\" \"F\"\n",
       "\n",
       "$Age\n",
       "[1] 29 21 19 23\n",
       "\n",
       "$Drinks\n",
       "[1]  TRUE FALSE FALSE FALSE\n"
      ]
     },
     "execution_count": 8,
     "metadata": {},
     "output_type": "execute_result"
    }
   ],
   "source": [
    "name<-c(\"Hemanta\",\"Sanu\",\"Kanchi\",\"Luri\") #creates a vector of characters with names on it and assigns to variable name\n",
    "sex<-c(\"M\",\"F\",\"F\",\"F\")#creates a vector of characters with sex on it and assigns to variable sex\n",
    "age<-c(29,21,19,23) #creates a vector of integers with age on it an assigns to variabe age\n",
    "drinks<-c(T,F,F,F)#creates a vector of boolean expression with T and F on it and assigns it to varibale drinks\n",
    "dataList<-list(Name=name,Sex=sex,Age=age,Drinks=drinks)#define a list with elements as vectors \n",
    "                                                        #and gives name to each vectors\n",
    "dataList\n",
    "                                                                        "
   ]
  },
  {
   "cell_type": "markdown",
   "metadata": {},
   "source": [
    "3.Matrix\n",
    "\n",
    "Other data holder very important is matrix it is same as what we know about matrix from our school and high school. As vectors and lists. Matix is created by matrix(---data---). However, when creating a matrix we must provide a rows and columns. Lets define a matrix."
   ]
  },
  {
   "cell_type": "code",
   "execution_count": 27,
   "metadata": {
    "collapsed": false
   },
   "outputs": [
    {
     "name": "stdout",
     "output_type": "stream",
     "text": [
      "     [,1] [,2] [,3]\n",
      "[1,]    1    3    5\n",
      "[2,]    2    4    6\n"
     ]
    }
   ],
   "source": [
    "data_matrix<-matrix(c(1,2,3,4,5,6),nrow=2,ncol=3)#creates a matrix of vector c(1,2,3,4,5,6) with rows=2 and columns=3\n",
    "print(data_matrix)"
   ]
  }
 ],
 "metadata": {
  "anaconda-cloud": {},
  "kernelspec": {
   "display_name": "R",
   "language": "R",
   "name": "ir"
  },
  "language_info": {
   "codemirror_mode": "r",
   "file_extension": ".r",
   "mimetype": "text/x-r-source",
   "name": "R",
   "pygments_lexer": "r",
   "version": "3.2.2"
  }
 },
 "nbformat": 4,
 "nbformat_minor": 0
}
