{
 "cells": [
  {
   "cell_type": "markdown",
   "metadata": {},
   "source": [
    "List Manipulation\n",
    "\n",
    "After being familiar with the vector manipulation, let us study about list manipulation. The process of the list manipulaiton is similar to the vector manipulation.\n"
   ]
  },
  {
   "cell_type": "code",
   "execution_count": 7,
   "metadata": {
    "collapsed": false
   },
   "outputs": [
    {
     "data": {
      "text/html": [
       "<dl>\n",
       "\t<dt>$name</dt>\n",
       "\t\t<dd><ol class=list-inline>\n",
       "\t<li>'shova'</li>\n",
       "\t<li>'Ek'</li>\n",
       "\t<li>'Pitu'</li>\n",
       "\t<li>'Hemanta'</li>\n",
       "</ol>\n",
       "</dd>\n",
       "\t<dt>$age</dt>\n",
       "\t\t<dd><ol class=list-inline>\n",
       "\t<li>25</li>\n",
       "\t<li>31</li>\n",
       "\t<li>30</li>\n",
       "\t<li>31</li>\n",
       "</ol>\n",
       "</dd>\n",
       "\t<dt>$sex</dt>\n",
       "\t\t<dd><ol class=list-inline>\n",
       "\t<li>'F'</li>\n",
       "\t<li>'M'</li>\n",
       "\t<li>'M'</li>\n",
       "\t<li>'M'</li>\n",
       "</ol>\n",
       "</dd>\n",
       "</dl>\n"
      ],
      "text/latex": [
       "\\begin{description}\n",
       "\\item[\\$name] \\begin{enumerate*}\n",
       "\\item 'shova'\n",
       "\\item 'Ek'\n",
       "\\item 'Pitu'\n",
       "\\item 'Hemanta'\n",
       "\\end{enumerate*}\n",
       "\n",
       "\\item[\\$age] \\begin{enumerate*}\n",
       "\\item 25\n",
       "\\item 31\n",
       "\\item 30\n",
       "\\item 31\n",
       "\\end{enumerate*}\n",
       "\n",
       "\\item[\\$sex] \\begin{enumerate*}\n",
       "\\item 'F'\n",
       "\\item 'M'\n",
       "\\item 'M'\n",
       "\\item 'M'\n",
       "\\end{enumerate*}\n",
       "\n",
       "\\end{description}\n"
      ],
      "text/markdown": [
       "$name\n",
       ":   1. 'shova'\n",
       "2. 'Ek'\n",
       "3. 'Pitu'\n",
       "4. 'Hemanta'\n",
       "\n",
       "\n",
       "\n",
       "$age\n",
       ":   1. 25\n",
       "2. 31\n",
       "3. 30\n",
       "4. 31\n",
       "\n",
       "\n",
       "\n",
       "$sex\n",
       ":   1. 'F'\n",
       "2. 'M'\n",
       "3. 'M'\n",
       "4. 'M'\n",
       "\n",
       "\n",
       "\n",
       "\n",
       "\n"
      ],
      "text/plain": [
       "$name\n",
       "[1] \"shova\"   \"Ek\"      \"Pitu\"    \"Hemanta\"\n",
       "\n",
       "$age\n",
       "[1] 25 31 30 31\n",
       "\n",
       "$sex\n",
       "[1] \"F\" \"M\" \"M\" \"M\"\n"
      ]
     },
     "execution_count": 7,
     "metadata": {},
     "output_type": "execute_result"
    }
   ],
   "source": [
    "#form a list as done earlier\n",
    "nameL<-c(\"shova\",\"Ek\",\"Pitu\",\"Hemanta\")\n",
    "ageL<-c(25,31,30,31)\n",
    "sexL<-c(\"F\",\"M\",\"M\",\"M\")\n",
    "# form a list from above data\n",
    "data<-list(name=nameL,age=ageL,sex=sexL)\n",
    "#print the list\n",
    "data"
   ]
  },
  {
   "cell_type": "code",
   "execution_count": 9,
   "metadata": {
    "collapsed": false
   },
   "outputs": [
    {
     "data": {
      "text/html": [
       "<ol class=list-inline>\n",
       "\t<li>'shova'</li>\n",
       "\t<li>'Ek'</li>\n",
       "\t<li>'Pitu'</li>\n",
       "\t<li>'Hemanta'</li>\n",
       "</ol>\n"
      ],
      "text/latex": [
       "\\begin{enumerate*}\n",
       "\\item 'shova'\n",
       "\\item 'Ek'\n",
       "\\item 'Pitu'\n",
       "\\item 'Hemanta'\n",
       "\\end{enumerate*}\n"
      ],
      "text/markdown": [
       "1. 'shova'\n",
       "2. 'Ek'\n",
       "3. 'Pitu'\n",
       "4. 'Hemanta'\n",
       "\n",
       "\n"
      ],
      "text/plain": [
       "[1] \"shova\"   \"Ek\"      \"Pitu\"    \"Hemanta\""
      ]
     },
     "execution_count": 9,
     "metadata": {},
     "output_type": "execute_result"
    },
    {
     "data": {
      "text/html": [
       "<ol class=list-inline>\n",
       "\t<li>'F'</li>\n",
       "\t<li>'M'</li>\n",
       "\t<li>'M'</li>\n",
       "\t<li>'M'</li>\n",
       "</ol>\n"
      ],
      "text/latex": [
       "\\begin{enumerate*}\n",
       "\\item 'F'\n",
       "\\item 'M'\n",
       "\\item 'M'\n",
       "\\item 'M'\n",
       "\\end{enumerate*}\n"
      ],
      "text/markdown": [
       "1. 'F'\n",
       "2. 'M'\n",
       "3. 'M'\n",
       "4. 'M'\n",
       "\n",
       "\n"
      ],
      "text/plain": [
       "[1] \"F\" \"M\" \"M\" \"M\""
      ]
     },
     "execution_count": 9,
     "metadata": {},
     "output_type": "execute_result"
    }
   ],
   "source": [
    "#from above list to extract name of in the list    ... data$variable_name\n",
    "data$name\n",
    "\n",
    "#to extract the sex from the list\n",
    "\n",
    "data$sex"
   ]
  },
  {
   "cell_type": "code",
   "execution_count": 12,
   "metadata": {
    "collapsed": false
   },
   "outputs": [
    {
     "data": {
      "text/html": [
       "<ol class=list-inline>\n",
       "\t<li>'shova'</li>\n",
       "\t<li>'Ek'</li>\n",
       "\t<li>'Pitu'</li>\n",
       "\t<li>'Hemanta'</li>\n",
       "</ol>\n"
      ],
      "text/latex": [
       "\\begin{enumerate*}\n",
       "\\item 'shova'\n",
       "\\item 'Ek'\n",
       "\\item 'Pitu'\n",
       "\\item 'Hemanta'\n",
       "\\end{enumerate*}\n"
      ],
      "text/markdown": [
       "1. 'shova'\n",
       "2. 'Ek'\n",
       "3. 'Pitu'\n",
       "4. 'Hemanta'\n",
       "\n",
       "\n"
      ],
      "text/plain": [
       "[1] \"shova\"   \"Ek\"      \"Pitu\"    \"Hemanta\""
      ]
     },
     "execution_count": 12,
     "metadata": {},
     "output_type": "execute_result"
    }
   ],
   "source": [
    "# the above extraction can be done using the method similar to that of vectors\n",
    "# to print the names\n",
    "data[[1]]"
   ]
  },
  {
   "cell_type": "markdown",
   "metadata": {},
   "source": [
    "Let us try to add a data set to the list data.\n"
   ]
  },
  {
   "cell_type": "code",
   "execution_count": 15,
   "metadata": {
    "collapsed": false
   },
   "outputs": [
    {
     "data": {
      "text/html": [
       "<dl>\n",
       "\t<dt>$name</dt>\n",
       "\t\t<dd><ol class=list-inline>\n",
       "\t<li>'shova'</li>\n",
       "\t<li>'Ek'</li>\n",
       "\t<li>'Pitu'</li>\n",
       "\t<li>'Hemanta'</li>\n",
       "</ol>\n",
       "</dd>\n",
       "\t<dt>$age</dt>\n",
       "\t\t<dd><ol class=list-inline>\n",
       "\t<li>25</li>\n",
       "\t<li>31</li>\n",
       "\t<li>30</li>\n",
       "\t<li>31</li>\n",
       "</ol>\n",
       "</dd>\n",
       "\t<dt>$sex</dt>\n",
       "\t\t<dd><ol class=list-inline>\n",
       "\t<li>'F'</li>\n",
       "\t<li>'M'</li>\n",
       "\t<li>'M'</li>\n",
       "\t<li>'M'</li>\n",
       "</ol>\n",
       "</dd>\n",
       "\t<dt>$salary</dt>\n",
       "\t\t<dd><ol class=list-inline>\n",
       "\t<li>200</li>\n",
       "\t<li>150</li>\n",
       "\t<li>100</li>\n",
       "\t<li>50</li>\n",
       "</ol>\n",
       "</dd>\n",
       "</dl>\n"
      ],
      "text/latex": [
       "\\begin{description}\n",
       "\\item[\\$name] \\begin{enumerate*}\n",
       "\\item 'shova'\n",
       "\\item 'Ek'\n",
       "\\item 'Pitu'\n",
       "\\item 'Hemanta'\n",
       "\\end{enumerate*}\n",
       "\n",
       "\\item[\\$age] \\begin{enumerate*}\n",
       "\\item 25\n",
       "\\item 31\n",
       "\\item 30\n",
       "\\item 31\n",
       "\\end{enumerate*}\n",
       "\n",
       "\\item[\\$sex] \\begin{enumerate*}\n",
       "\\item 'F'\n",
       "\\item 'M'\n",
       "\\item 'M'\n",
       "\\item 'M'\n",
       "\\end{enumerate*}\n",
       "\n",
       "\\item[\\$salary] \\begin{enumerate*}\n",
       "\\item 200\n",
       "\\item 150\n",
       "\\item 100\n",
       "\\item 50\n",
       "\\end{enumerate*}\n",
       "\n",
       "\\end{description}\n"
      ],
      "text/markdown": [
       "$name\n",
       ":   1. 'shova'\n",
       "2. 'Ek'\n",
       "3. 'Pitu'\n",
       "4. 'Hemanta'\n",
       "\n",
       "\n",
       "\n",
       "$age\n",
       ":   1. 25\n",
       "2. 31\n",
       "3. 30\n",
       "4. 31\n",
       "\n",
       "\n",
       "\n",
       "$sex\n",
       ":   1. 'F'\n",
       "2. 'M'\n",
       "3. 'M'\n",
       "4. 'M'\n",
       "\n",
       "\n",
       "\n",
       "$salary\n",
       ":   1. 200\n",
       "2. 150\n",
       "3. 100\n",
       "4. 50\n",
       "\n",
       "\n",
       "\n",
       "\n",
       "\n"
      ],
      "text/plain": [
       "$name\n",
       "[1] \"shova\"   \"Ek\"      \"Pitu\"    \"Hemanta\"\n",
       "\n",
       "$age\n",
       "[1] 25 31 30 31\n",
       "\n",
       "$sex\n",
       "[1] \"F\" \"M\" \"M\" \"M\"\n",
       "\n",
       "$salary\n",
       "[1] 200 150 100  50\n"
      ]
     },
     "execution_count": 15,
     "metadata": {},
     "output_type": "execute_result"
    }
   ],
   "source": [
    "# adding a salary in dollors to the above list data in thousand dollors\n",
    "salaryL<-c(200,150,100,50)   # new vector with salary data created\n",
    "data$salary<-salaryL         # salary added to the list data\n",
    "data                         # prints data and we can see new data of salary added to the list\n"
   ]
  }
 ],
 "metadata": {
  "anaconda-cloud": {},
  "kernelspec": {
   "display_name": "R",
   "language": "R",
   "name": "ir"
  },
  "language_info": {
   "codemirror_mode": "r",
   "file_extension": ".r",
   "mimetype": "text/x-r-source",
   "name": "R",
   "pygments_lexer": "r",
   "version": "3.2.2"
  }
 },
 "nbformat": 4,
 "nbformat_minor": 0
}
