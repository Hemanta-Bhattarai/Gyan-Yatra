{
 "cells": [
  {
   "cell_type": "markdown",
   "metadata": {},
   "source": [
    "Looping:\n",
    "\n",
    "\n",
    "When we have to perform a task repeatedly until some condition is satisfied then it is called looping.\n",
    "\n",
    "The looping function is for. The syntax is\n",
    "\n",
    "    for(<var-name> in <vector>){\n",
    "        \n",
    "            <------process----->\n",
    "            \n",
    "    } \n",
    "    \n",
    " In above process, the var-name is assigned the element of vector one by one till there are element in vector\n",
    " \n",
    " e.g\n",
    " \n",
    "         vec<-c(1,10)\n",
    "         for(x in vec){\n",
    "             print(x)\n",
    "         }\n",
    "         \n",
    " In above code, vec is a vector 1 2 3 4 5 6 7 8 9 10.\n",
    " \n",
    "in for loop firstly x=1 and enters the for loop and prints the value of x.\n",
    "\n",
    "Then checks if there is element in vec. Yes there is its 2. So, assigns x=2 and prints value of x\n",
    "\n",
    "Again checks if there is element in vec. Yes there is its 3 so it prints 3.\n",
    "\n",
    "Lets say the process reaches for x=9 and prints x.\n",
    "\n",
    "After printing x, it checks if there is element in vec. Yes there is its 10 now and assigns x=10 and prints\n",
    "\n",
    "After printing its checks if there is next element in vec. But sorry there are no element so process doesn't enter the for loop and ends the for loop.\n",
    "\n",
    "I hope its making sense. Its very hard to explaing but I am trying my best to explain. I think you will be clear with example.\n"
   ]
  },
  {
   "cell_type": "code",
   "execution_count": 4,
   "metadata": {
    "collapsed": false
   },
   "outputs": [
    {
     "name": "stdout",
     "output_type": "stream",
     "text": [
      "[1] 1\n",
      "[1] 2\n",
      "[1] 3\n",
      "[1] 4\n",
      "[1] 5\n",
      "[1] 6\n",
      "[1] 7\n",
      "[1] 8\n",
      "[1] 9\n",
      "[1] 10\n"
     ]
    }
   ],
   "source": [
    "vec<-1:10\n",
    "\n",
    "for(x in vec){\n",
    "    \n",
    "            print(x)\n",
    "}"
   ]
  },
  {
   "cell_type": "markdown",
   "metadata": {},
   "source": [
    "Some time it is useful to combine for loop and control statement. Let us try to print all the even numbers from 1 to 20.\n",
    "We need a vector containg sequence of number from 1 to 10. And we check each number if divisible by 2 if yes we print value if not we discard the value."
   ]
  },
  {
   "cell_type": "code",
   "execution_count": 5,
   "metadata": {
    "collapsed": false
   },
   "outputs": [
    {
     "name": "stdout",
     "output_type": "stream",
     "text": [
      "[1] 2\n",
      "[1] 4\n",
      "[1] 6\n",
      "[1] 8\n",
      "[1] 10\n",
      "[1] 12\n",
      "[1] 14\n",
      "[1] 16\n",
      "[1] 18\n",
      "[1] 20\n"
     ]
    }
   ],
   "source": [
    "numbers<-1:20    #vector of number created\n",
    "for(num in numbers){\n",
    "    \n",
    "    if(num%%2==0){\n",
    "        \n",
    "        print(num)\n",
    "    }\n",
    "}"
   ]
  },
  {
   "cell_type": "markdown",
   "metadata": {},
   "source": [
    "There are two important things to learn in loop i.e break and next\n",
    "\n",
    "Break:\n",
    "\n",
    "If you want to break a process at certain point then just write break. After break it just comes out of the loop or terminates the loop\n",
    "\n",
    "Next:\n",
    "\n",
    "If you want to ignore the specified part of loop and continue for the rest of the loop then we use next. The process after next skips the current loop and starts with next loop.\n",
    "\n",
    "\n",
    "Lets try to implement these\n",
    "\n",
    "\n",
    "    vec1<-1:10\n",
    "    for(num in vec1){\n",
    "    \n",
    "          if(num==5){\n",
    "              break;\n",
    "          }\n",
    "          \n",
    "          print(num)\n",
    "          \n",
    "      }\n",
    "      \n",
    "      \n",
    " In above code, a vec1 is sequence of number from 1 to 10. In for loop the number is checked if is equal to 5 if true then loop breaks.\n",
    " Lets trace the process:\n",
    " \n",
    " Firstly num=1 and num is not equal to 5 so it doesn't break and print num \n",
    " \n",
    " Again num=2 and num is not equal to 5 so it doesn't break and print num\n",
    " \n",
    " But when num=5, num is equal to 5 so the process enters if statement and encounters break statement so the loop is broken. So loop terminates after that.\n",
    " \n",
    " So, we expect numbers from 1 to 4 being printed. As for num=5 the loop terminates before reaching print(num)"
   ]
  },
  {
   "cell_type": "code",
   "execution_count": 6,
   "metadata": {
    "collapsed": false
   },
   "outputs": [
    {
     "name": "stdout",
     "output_type": "stream",
     "text": [
      "[1] 1\n",
      "[1] 2\n",
      "[1] 3\n",
      "[1] 4\n"
     ]
    }
   ],
   "source": [
    "vec1<-1:10\n",
    "for(num in vec1){\n",
    "\n",
    "      if(num==5){\n",
    "          break;\n",
    "      }\n",
    "\n",
    "      print(num)\n",
    "\n",
    "  }\n"
   ]
  },
  {
   "cell_type": "markdown",
   "metadata": {},
   "source": [
    "Lets try to trace above code by replacing break with next.\n",
    "\n",
    "        vec1<-1:10\n",
    "        for(num in vec1){\n",
    "\n",
    "            if(num==5){\n",
    "              next;\n",
    "            }\n",
    "\n",
    "             print(num)\n",
    "\n",
    "      }\n",
    "      \n",
    "      \n",
    "In above code, a vec1 is sequence of number from 1 to 10. In for loop the number is checked if is equal to 5 if true then loop breaks. Lets trace the process:\n",
    "\n",
    "Firstly num=1 and num is not equal to 5 so it doesn't enter if statement and print num\n",
    "\n",
    "Again num=2 and num is not equal to 5 so it doesn't enter if statement and print num\n",
    "\n",
    "But when num=5, num is equal to 5 so the process enters if statement and encounters next statement so it skips current looping process. And, checks is there is num in vec1 after 5 yes there is 6 and contiues to do task until there is number in vec1\n",
    "\n",
    "So, we expect numbers from 1 to 10 being printed without 5. As for num=5 the process enters if statement and skips that loop ie skips all the statemtns below the next i.e print(x). So, cannot print value of 5.\n"
   ]
  },
  {
   "cell_type": "code",
   "execution_count": 7,
   "metadata": {
    "collapsed": false
   },
   "outputs": [
    {
     "name": "stdout",
     "output_type": "stream",
     "text": [
      "[1] 1\n",
      "[1] 2\n",
      "[1] 3\n",
      "[1] 4\n",
      "[1] 6\n",
      "[1] 7\n",
      "[1] 8\n",
      "[1] 9\n",
      "[1] 10\n"
     ]
    }
   ],
   "source": [
    "vec1<-1:10\n",
    "        for(num in vec1){\n",
    "\n",
    "            if(num==5){\n",
    "              next;\n",
    "            }\n",
    "\n",
    "             print(num)\n",
    "\n",
    "      }\n",
    "      "
   ]
  },
  {
   "cell_type": "markdown",
   "metadata": {},
   "source": [
    "Next looping statement in R is repeat.\n",
    "\n",
    "the syntax for repeat is\n",
    "\n",
    "\n",
    "        repeat{\n",
    "            \n",
    "                <---------process---------->\n",
    "                <---------process----------->\n",
    "                <---------process----------->\n",
    "        \n",
    "        }\n",
    "        \n",
    "        \n",
    " Note on using repeat statement it must have a break statement. If it doesn't have break statement then there will be infinite loop ie loop never ends and you must force shutdown the program.\n",
    " \n",
    " NOTE: repeat must have break statement.\n",
    " \n",
    " Lets see a example and lets trace it.\n",
    " \n",
    " \n",
    "    x<-seq(1,10)    #vector from 1 to 10 is created\n",
    "    counter<-1      # a counter is defined to count the positions of vectors\n",
    "         \n",
    "    repeat{\n",
    "        if(counter>10){      \n",
    "            break         #breaks if counter is greater than 10\n",
    "        }\n",
    "    \n",
    "    print(x[counter])    #prints value of x at position counter\n",
    "    counter=counter+1    #increases counter by 1 and assigns new number to counter\n",
    "    \n",
    "    }\n",
    " \n",
    " \n",
    " \n",
    " Firsly a vector of number from 1 to 10 is generated and counter is assigned to be 1.\n",
    " \n",
    " repeat loop starts. and checks if counter is greater than 10 if it is true then the loop is terminated. If counter is not greater than 10. The value of x at position of counter is printed and value of counter is increased by 1.\n",
    " \n",
    " In first looping, counter is 1 and is not greater than 10 so x[1] is printed and counter=1+1=2\n",
    " \n",
    " In second looping, counter is 2 and is not greater than 10 so x[2] is printed and counter=1+2=3\n",
    " \n",
    " In third looping, counter is 3 and is not greater than 10 so x[3] is printed and counter=1+3=4\n",
    " \n",
    " Let process flows and counter is 10.\n",
    " \n",
    " After that, the counter is 10 and is not greather than 10 so x[10] is printed and counter=1+10=11\n",
    " \n",
    " And, the process enter the loop with couter=11 and at this time counter is greater than 10 so process enters the if statement and breaks the loop ie terminates the repeat loop.\n",
    " \n",
    " So, in this program prints values of x in position 1 to 10 is printed\n",
    " \n",
    " \n",
    " "
   ]
  },
  {
   "cell_type": "code",
   "execution_count": 11,
   "metadata": {
    "collapsed": false
   },
   "outputs": [
    {
     "name": "stdout",
     "output_type": "stream",
     "text": [
      "[1] 1\n",
      "[1] 2\n",
      "[1] 3\n",
      "[1] 4\n",
      "[1] 5\n",
      "[1] 6\n",
      "[1] 7\n",
      "[1] 8\n",
      "[1] 9\n",
      "[1] 10\n"
     ]
    }
   ],
   "source": [
    "x<-seq(1,10)    #vector from 1 to 10 is created\n",
    "    counter<-1      # a counter is defined to count the positions of vectors\n",
    "         \n",
    "    repeat{\n",
    "        if(counter>10){      \n",
    "            break         #breaks if counter is greater than 10\n",
    "        }\n",
    "    \n",
    "    print(x[counter])    #prints value of x at position counter\n",
    "    counter=counter+1    #increases counter by 1 and assigns new number to counter\n",
    "    \n",
    "    }"
   ]
  }
 ],
 "metadata": {
  "anaconda-cloud": {},
  "kernelspec": {
   "display_name": "R",
   "language": "R",
   "name": "ir"
  },
  "language_info": {
   "codemirror_mode": "r",
   "file_extension": ".r",
   "mimetype": "text/x-r-source",
   "name": "R",
   "pygments_lexer": "r",
   "version": "3.2.2"
  }
 },
 "nbformat": 4,
 "nbformat_minor": 0
}
