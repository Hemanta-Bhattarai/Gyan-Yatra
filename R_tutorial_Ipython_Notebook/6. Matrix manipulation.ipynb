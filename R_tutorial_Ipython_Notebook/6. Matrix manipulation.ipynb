{
 "cells": [
  {
   "cell_type": "markdown",
   "metadata": {},
   "source": [
    "Matix manipulation for data."
   ]
  },
  {
   "cell_type": "code",
   "execution_count": 18,
   "metadata": {
    "collapsed": false,
    "scrolled": true
   },
   "outputs": [
    {
     "name": "stdout",
     "output_type": "stream",
     "text": [
      "      [,1] [,2] [,3] [,4] [,5] [,6] [,7] [,8] [,9] [,10]\n",
      " [1,]    1   11   21   31   41   51   61   71   81    91\n",
      " [2,]    2   12   22   32   42   52   62   72   82    92\n",
      " [3,]    3   13   23   33   43   53   63   73   83    93\n",
      " [4,]    4   14   24   34   44   54   64   74   84    94\n",
      " [5,]    5   15   25   35   45   55   65   75   85    95\n",
      " [6,]    6   16   26   36   46   56   66   76   86    96\n",
      " [7,]    7   17   27   37   47   57   67   77   87    97\n",
      " [8,]    8   18   28   38   48   58   68   78   88    98\n",
      " [9,]    9   19   29   39   49   59   69   79   89    99\n",
      "[10,]   10   20   30   40   50   60   70   80   90   100\n"
     ]
    },
    {
     "data": {
      "text/html": [
       "42"
      ],
      "text/latex": [
       "42"
      ],
      "text/markdown": [
       "42"
      ],
      "text/plain": [
       "[1] 42"
      ]
     },
     "execution_count": 18,
     "metadata": {},
     "output_type": "execute_result"
    }
   ],
   "source": [
    "#define a matrix with different data sets\n",
    "matrixData<-matrix(seq(1,100),ncol=10,nrow=10)\n",
    "print(matrixData)\n",
    "# to extract the data in matrix .... matrixname[rows,column]\n",
    "# to extract the data from 2nd row and 5th column i.e 42\n",
    "matrixData[2,5]"
   ]
  },
  {
   "cell_type": "markdown",
   "metadata": {},
   "source": [
    "To extract entire row we use ...... matrixname[row,]\n",
    "\n",
    "To extract entire column we use.......matirxname[,column]\n"
   ]
  },
  {
   "cell_type": "code",
   "execution_count": 20,
   "metadata": {
    "collapsed": false
   },
   "outputs": [
    {
     "name": "stdout",
     "output_type": "stream",
     "text": [
      "      [,1] [,2] [,3] [,4] [,5] [,6] [,7] [,8] [,9] [,10]\n",
      " [1,]    1   11   21   31   41   51   61   71   81    91\n",
      " [2,]    2   12   22   32   42   52   62   72   82    92\n",
      " [3,]    3   13   23   33   43   53   63   73   83    93\n",
      " [4,]    4   14   24   34   44   54   64   74   84    94\n",
      " [5,]    5   15   25   35   45   55   65   75   85    95\n",
      " [6,]    6   16   26   36   46   56   66   76   86    96\n",
      " [7,]    7   17   27   37   47   57   67   77   87    97\n",
      " [8,]    8   18   28   38   48   58   68   78   88    98\n",
      " [9,]    9   19   29   39   49   59   69   79   89    99\n",
      "[10,]   10   20   30   40   50   60   70   80   90   100\n"
     ]
    },
    {
     "data": {
      "text/html": [
       "<ol class=list-inline>\n",
       "\t<li>3</li>\n",
       "\t<li>13</li>\n",
       "\t<li>23</li>\n",
       "\t<li>33</li>\n",
       "\t<li>43</li>\n",
       "\t<li>53</li>\n",
       "\t<li>63</li>\n",
       "\t<li>73</li>\n",
       "\t<li>83</li>\n",
       "\t<li>93</li>\n",
       "</ol>\n"
      ],
      "text/latex": [
       "\\begin{enumerate*}\n",
       "\\item 3\n",
       "\\item 13\n",
       "\\item 23\n",
       "\\item 33\n",
       "\\item 43\n",
       "\\item 53\n",
       "\\item 63\n",
       "\\item 73\n",
       "\\item 83\n",
       "\\item 93\n",
       "\\end{enumerate*}\n"
      ],
      "text/markdown": [
       "1. 3\n",
       "2. 13\n",
       "3. 23\n",
       "4. 33\n",
       "5. 43\n",
       "6. 53\n",
       "7. 63\n",
       "8. 73\n",
       "9. 83\n",
       "10. 93\n",
       "\n",
       "\n"
      ],
      "text/plain": [
       " [1]  3 13 23 33 43 53 63 73 83 93"
      ]
     },
     "execution_count": 20,
     "metadata": {},
     "output_type": "execute_result"
    },
    {
     "data": {
      "text/html": [
       "<ol class=list-inline>\n",
       "\t<li>21</li>\n",
       "\t<li>22</li>\n",
       "\t<li>23</li>\n",
       "\t<li>24</li>\n",
       "\t<li>25</li>\n",
       "\t<li>26</li>\n",
       "\t<li>27</li>\n",
       "\t<li>28</li>\n",
       "\t<li>29</li>\n",
       "\t<li>30</li>\n",
       "</ol>\n"
      ],
      "text/latex": [
       "\\begin{enumerate*}\n",
       "\\item 21\n",
       "\\item 22\n",
       "\\item 23\n",
       "\\item 24\n",
       "\\item 25\n",
       "\\item 26\n",
       "\\item 27\n",
       "\\item 28\n",
       "\\item 29\n",
       "\\item 30\n",
       "\\end{enumerate*}\n"
      ],
      "text/markdown": [
       "1. 21\n",
       "2. 22\n",
       "3. 23\n",
       "4. 24\n",
       "5. 25\n",
       "6. 26\n",
       "7. 27\n",
       "8. 28\n",
       "9. 29\n",
       "10. 30\n",
       "\n",
       "\n"
      ],
      "text/plain": [
       " [1] 21 22 23 24 25 26 27 28 29 30"
      ]
     },
     "execution_count": 20,
     "metadata": {},
     "output_type": "execute_result"
    }
   ],
   "source": [
    "#create a matrix\n",
    "matrixData1<-matrix(seq(1,20),ncol=5,nrow=4)\n",
    "print(matrixData)    # prints matrix data\n",
    "matrixData[3,]    #extracts the 3rd row\n",
    "matrixData[,3]    #extracts the "
   ]
  },
  {
   "cell_type": "code",
   "execution_count": null,
   "metadata": {
    "collapsed": true
   },
   "outputs": [],
   "source": []
  }
 ],
 "metadata": {
  "anaconda-cloud": {},
  "kernelspec": {
   "display_name": "R",
   "language": "R",
   "name": "ir"
  },
  "language_info": {
   "codemirror_mode": "r",
   "file_extension": ".r",
   "mimetype": "text/x-r-source",
   "name": "R",
   "pygments_lexer": "r",
   "version": "3.2.2"
  }
 },
 "nbformat": 4,
 "nbformat_minor": 0
}
